{
  "nbformat": 4,
  "nbformat_minor": 0,
  "metadata": {
    "colab": {
      "name": "example_predict.ipynb",
      "provenance": [],
      "include_colab_link": true
    },
    "kernelspec": {
      "name": "python3",
      "display_name": "Python 3"
    },
    "accelerator": "GPU"
  },
  "cells": [
    {
      "cell_type": "markdown",
      "metadata": {
        "id": "view-in-github",
        "colab_type": "text"
      },
      "source": [
        "<a href=\"https://colab.research.google.com/github/koyomin9zx/UITQA-Vietnamese-Question-Answering/blob/master/example_predict_v2.ipynb\" target=\"_parent\"><img src=\"https://colab.research.google.com/assets/colab-badge.svg\" alt=\"Open In Colab\"/></a>"
      ]
    },
    {
      "cell_type": "code",
      "metadata": {
        "id": "BslQeHl4qVUj",
        "colab_type": "code",
        "colab": {}
      },
      "source": [
        "!git clone https://github.com/koyomin9zx/UITQA-Vietnamese-Question-Answering.git"
      ],
      "execution_count": 0,
      "outputs": []
    },
    {
      "cell_type": "code",
      "metadata": {
        "id": "mUKLdjyk2kAJ",
        "colab_type": "code",
        "colab": {}
      },
      "source": [
        "!pip install pytorch-transformers\n",
        "!pip install underthesea \n",
        "!pip install unidecode\n",
        "!pip install whoosh"
      ],
      "execution_count": 0,
      "outputs": []
    },
    {
      "cell_type": "code",
      "metadata": {
        "id": "N9p5f4LHYj00",
        "colab_type": "code",
        "colab": {}
      },
      "source": [
        "from google.colab import drive\n",
        "drive.mount('/content/drive')"
      ],
      "execution_count": 0,
      "outputs": []
    },
    {
      "cell_type": "code",
      "metadata": {
        "id": "azCO_Yqt5awd",
        "colab_type": "code",
        "colab": {}
      },
      "source": [
        "!ln -s /content/drive/'My Drive'/data\n",
        "!mv /content/UITQA-Vietnamese-Question-Answering/combine.py /content"
      ],
      "execution_count": 0,
      "outputs": []
    },
    {
      "cell_type": "code",
      "metadata": {
        "id": "-X4w72iQ6VhJ",
        "colab_type": "code",
        "colab": {}
      },
      "source": [
        "# importing libraries \n",
        "from underthesea import word_tokenize, sent_tokenize\n",
        "from sklearn.feature_extraction.text import TfidfVectorizer \n",
        "from sklearn.metrics.pairwise import cosine_similarity \n",
        "from scipy.spatial import distance \n",
        "from collections import defaultdict, OrderedDict \n",
        "from string import punctuation\n",
        "import unidecode\n",
        "import re\n",
        "import pandas as pd \n",
        "import numpy as np \n",
        "import glob\n",
        "from combine import QA\n",
        "import time\n",
        "import sys\n",
        "import os\n",
        "from whoosh.fields import Schema, TEXT, STORED\n",
        "from whoosh.index import create_in, open_dir\n",
        "from whoosh.query import *\n",
        "from whoosh.qparser import QueryParser\n",
        "from underthesea import pos_tag"
      ],
      "execution_count": 0,
      "outputs": []
    },
    {
      "cell_type": "code",
      "metadata": {
        "id": "FlQ8dspK2OwP",
        "colab_type": "code",
        "outputId": "f07a1a0b-6dbf-42d6-eb28-ead92654aab7",
        "colab": {
          "base_uri": "https://localhost:8080/",
          "height": 34
        }
      },
      "source": [
        "start = time.time()\n",
        "model=QA('/content/data/BERT_Squad_WIki_UIT_pretrain') #path to model\n",
        "end = time.time()\n",
        "print(\"time load model: \"+str(round((end - start),2)))"
      ],
      "execution_count": 8,
      "outputs": [
        {
          "output_type": "stream",
          "text": [
            "time load model: 28.6\n"
          ],
          "name": "stdout"
        }
      ]
    },
    {
      "cell_type": "code",
      "metadata": {
        "id": "tvcP8N1z6bwS",
        "colab_type": "code",
        "colab": {}
      },
      "source": [
        "def load_data(path):\n",
        "  data=[]\n",
        "  all_files = glob.glob(path + \"/*.txt\")\n",
        "  for file in all_files:\n",
        "      passage=open(file, \"r\", encoding='utf-8').read()\n",
        "      data.append(passage)\n",
        "  return data\n",
        "\n",
        "def vi_tokenizer(row):\n",
        "    return word_tokenize(row, format=\"text\")\n",
        "\n",
        "def remove_stopwords(stopwords,text):\n",
        "  sent = [s for s in text.split() if s not in stopwords ]\n",
        "  sent = ' '.join(sent)\n",
        "  return sent\n",
        "\n",
        "\n",
        "def remove_punctuation(row):\n",
        "  remove = punctuation\n",
        "  remove = remove.replace(\"_\", \"\")\n",
        "  pattern = \"[{}]\".format(remove) # create the pattern\n",
        "  re_space=re.compile('\\s+')\n",
        "  re_trailing=re.compile('^\\s+|\\s+?$')\n",
        "  row=re.sub(pattern, \" \", row) \n",
        "  row=re.sub(re_space,' ',row)\n",
        "  row=re.sub(re_trailing,' ',row)\n",
        "  row = row.strip()\n",
        "  row =row.lower()\n",
        "  return row\n",
        "\n",
        "def standardize_data(df,stopwords):\n",
        "    hl_cleansed=[]\n",
        "    remove = punctuation\n",
        "    #remove = remove.replace(\"_\", \"\")\n",
        "    pattern = \"[{}]\".format(remove) # create the pattern\n",
        "    re_space=re.compile('\\s+')\n",
        "    re_trailing=re.compile('^\\s+|\\s+?$')\n",
        "    for row in df:\n",
        "        #row = vi_tokenizer(row)\n",
        "        row=re.sub(pattern, \" \", row) \n",
        "        row=re.sub(re_space,' ',row)\n",
        "        row=re.sub(re_trailing,' ',row)\n",
        "        row = row.strip()\n",
        "        row = remove_stopwords(stopwords,row)\n",
        "        #row = remove_accents(row)\n",
        "        row = row.lower()\n",
        "        hl_cleansed.append(row)\n",
        "    return hl_cleansed\n",
        "\n",
        "def keywords_extraction(sent):\n",
        "  rs=\"\"\n",
        "  for i in pos_tag(sent):\n",
        "    if i[1]=='Np' or i[1]==\"N\" or i[1]==\"V\" or i[1]==\"A\":\n",
        "      rs=rs+' '+i[0]\n",
        "  return rs.strip().lower()\n",
        "\n",
        "\n",
        "def sentences_tokenize(text):\n",
        "    sents = sent_tokenize(text)\n",
        "    sents = [word_tokenize(s,format = 'text') for s in sents]\n",
        "    sents = [remove_punctuation(s) for s in sents]\n",
        "    sents = [s.lower() for s in sents]\n",
        "    #sents = [remove_stopwords(stopwords,s) for s in sents]\n",
        "    return sents\n",
        "\n",
        "## Converting 3D array of array into 1D array \n",
        "def arr_convert_1d(arr): \n",
        "    arr = np.array(arr) \n",
        "    arr = np.concatenate( arr, axis=0 ) \n",
        "    arr = np.concatenate( arr, axis=0 ) \n",
        "    return arr \n",
        "  \n",
        "## Cosine Similarity \n",
        "def cosine(trans): \n",
        "    cos = [] \n",
        "    cos.append(cosine_similarity(trans[0], trans[1])) \n",
        "    return cos\n",
        "\n",
        "def tfidf(str1, str2,tf_idf_vetor,stopwords):\n",
        "    str1=standardize_data([str1],stopwords)\n",
        "    str2=standardize_data([str2],stopwords)  \n",
        "    corpus = [str1[0],str2[0]] \n",
        "    trans = tf_idf_vetor.transform(corpus)\n",
        "    cos=cosine(trans) \n",
        "    return arr_convert_1d(cos)[0]\n",
        "\n",
        "def relevance_ranking(query,data,vect,stopwords):\n",
        "  query=standardize_data([query],stopwords)[0]\n",
        "  print('Query: ',query,'\\n')\n",
        "  score=defaultdict()\n",
        "  i=0\n",
        "  for d in data:\n",
        "    t=tfidf(query, d,vect,stopwords)\n",
        "    if t!=0.0:\n",
        "      score[t]=d\n",
        "    i+=1\n",
        "  return OrderedDict(sorted(score.items(),reverse=True))\n",
        "\n",
        "def whoosh_add_document(data):\n",
        "  #creating the schema\n",
        "  schema = Schema(doc_id=STORED,content=TEXT(stored=True))\n",
        "  #creating the index\n",
        "  if not os.path.exists(\"index\"):\n",
        "      os.mkdir(\"index\")\n",
        "  ix = create_in(\"index\",schema)\n",
        "  ix = open_dir(\"index\")\n",
        "  writer = ix.writer()\n",
        "  for i in range(0,len(data)):\n",
        "    writer.add_document(doc_id=\"doc_\"+str(i+1),content=data[i])\n",
        "  writer.commit()\n",
        "  return ix"
      ],
      "execution_count": 0,
      "outputs": []
    },
    {
      "cell_type": "code",
      "metadata": {
        "id": "zCvbhr-l4ehW",
        "colab_type": "code",
        "colab": {}
      },
      "source": [
        "data=load_data('/content/data/data_QA/data')\n",
        "stopwords = set(open('/content/data/data_QA/stopwords/stopwords.txt').read().split(' ')[:-1])\n"
      ],
      "execution_count": 0,
      "outputs": []
    },
    {
      "cell_type": "code",
      "metadata": {
        "id": "1QyNMEbyO1NX",
        "colab_type": "code",
        "colab": {
          "base_uri": "https://localhost:8080/",
          "height": 134
        },
        "outputId": "403442ab-c2cf-4acd-ab4b-2b38c32b8018"
      },
      "source": [
        "#Building index\n",
        "data_standard=standardize_data(data,stopwords)\n",
        "vect = TfidfVectorizer(min_df=1, max_df=0.8,max_features=8000,sublinear_tf=True,ngram_range=(1,3)) \n",
        "vect.fit(data_standard)"
      ],
      "execution_count": 217,
      "outputs": [
        {
          "output_type": "execute_result",
          "data": {
            "text/plain": [
              "TfidfVectorizer(analyzer='word', binary=False, decode_error='strict',\n",
              "        dtype=<class 'numpy.float64'>, encoding='utf-8', input='content',\n",
              "        lowercase=True, max_df=0.8, max_features=8000, min_df=1,\n",
              "        ngram_range=(1, 3), norm='l2', preprocessor=None, smooth_idf=True,\n",
              "        stop_words=None, strip_accents=None, sublinear_tf=True,\n",
              "        token_pattern='(?u)\\\\b\\\\w\\\\w+\\\\b', tokenizer=None, use_idf=True,\n",
              "        vocabulary=None)"
            ]
          },
          "metadata": {
            "tags": []
          },
          "execution_count": 217
        }
      ]
    },
    {
      "cell_type": "code",
      "metadata": {
        "id": "BY9jZ7wU9p4F",
        "colab_type": "code",
        "colab": {
          "base_uri": "https://localhost:8080/",
          "height": 1000
        },
        "outputId": "b990d157-3c89-4c04-f14e-2480c6c05f13"
      },
      "source": [
        "query=\"Hồ Chí Minh ra đi tìm đường cứu nước vào năm nào ?\"\n",
        "query_=keywords_extraction(query)\n",
        "\n",
        "\n",
        "rs=relevant_ranking(query_,data_standard,vect,stopwords)\n",
        "i=0\n",
        "for score,doc in rs.items():\n",
        "  answer = model.predict(doc,query)\n",
        "  num_overlap=len(set(query_.split()) & set(doc.split()))\n",
        "  if answer['confidence']>0.1 and num_overlap >1:\n",
        "    print('\\nQuestion: ',query)\n",
        "    print('\\nOverlap key word: ',num_overlap)\n",
        "    print('\\nAnswer: ',answer['answer'])\n",
        "    print('\\nIR Sccore: ',score)\n",
        "    print('\\nBert Score: ',answer['confidence'])\n",
        "    print('\\nContent: ',doc,'...')\n",
        "    print('\\n==========================================\\n\\n\\n')\n",
        "    i+=1\n",
        "  if i==5:\n",
        "    break"
      ],
      "execution_count": 230,
      "outputs": [
        {
          "output_type": "stream",
          "text": [
            "Query:  hồ chí minh đi tìm đường cứu nước năm \n",
            "\n",
            "\n",
            "Question:  Hồ Chí Minh ra đi tìm đường cứu nước vào năm nào ?\n",
            "\n",
            "Overlap key word:  9\n",
            "\n",
            "Answer:  năm 1912\n",
            "\n",
            "IR Sccore:  0.10164940702162907\n",
            "\n",
            "Bert Score:  0.3852809066070195\n",
            "\n",
            "Content:  hồ chí minh cuộc đời chủ tịch hồ chí minh cuộc đời trong sáng cao đẹp người cộng sản vĩ đại anh hùng dân tộc kiệt xuất chiến sĩ quốc tế lỗi lạc đấu tranh mệt mỏi hiến dâng đời mình tổ quốc nhân dân lý tưởng cộng sản chủ nghĩa độc lập tự dân tộc hòa bình công lý thế giới chủ tịch hồ chí minh nhỏ tên nguyễn sinh cung đi học nguyễn tất thành trong năm hoạt đông cách mạng lấy tên nguyễn ái quốc bí danh bút danh khác sinh ngày 19 tháng 5 năm 1890 ở kim liêm huyện nam đàn tình nghệ an mất ngày 2 tháng 9 năm 1969 hà nội người sinh trong gia đình nhà nho yêu nước lớn ở địa phương truyền thống yêu nước anh dũng chống giặc ngoại xâm sống trong hoàn cảnh đất nước chìm ách đô hộ thực dân pháp thời niên thiếu thanh niên người chứng kiến nỗi khổ cực đồng bào phong trào đấu tranh chống thực dân người sớm chí đuổi thực dân giành độc lập đất nước đem tự hạnh phúc đồng bào với tình cảm yêu nước thương dân vô hạn năm 1911 người rời tổ quốc đi sang phương tây tìm con đường giải phóng dân tộc từ năm 1912 năm l917 nguyễn tất thành nước ở châu á châu âu châu mỹ châu phi sống hòa mình nhân dân lao động người thông cảm sâu sắc cuộc sống khổ cực nhân dân lao động dân tộc thuộc địa nguyện vọng thiêng liêng họ người sớm nhận thức cuộc đấu tranh giải phóng dân tộc nhân dân việt nam bộ phận trong cuộc đấu tranh chung nhân dân thế giới người hoạt động tích cực nhằm đoàn kết nhân dân dân tộc giành tự độc lập cuối năm 1917 người anh trở pháp tiếp tục hoạt động trong phong trào việt kiều phong trào công nhân pháp năm 1919 lấy tên nguyễn ái quốc người thay mặt người việt nam yêu nước pháp gửi tới hội nghị vesailles bản yêu sách đòi quyền tự nhân dân việt nam quyền tự nhân dân nước thuộc địa dưới ảnh hưởng cách mạng tháng mười nga năm 1917 luận cương lênin về vấn đề dân tộc thuộc địa tháng 12 năm 1920 nguyễn ái quốc tham dự đại hội lần thứ xviii đảng xã hội pháp người bỏ phiếu tán thành đảng gia nhập quốc tế iii quốc tế cộng sản trở thành trong người sáng lập đảng cộng sản pháp từ người yêu nước trở thành người cộng sản người khẳng định con đường cách mạng giải phóng dân tộc trong thời đại mới con đường chủ nghĩa mác lênin cách mạng tháng mười nga vĩ đại năng 1921 số người yêu nước thuộc địa pháp nguyễn ái quốc sáng lập hội liên hiệp thuộc địa tháng 4 năm 1922 hội báo “người khổ “ le paria nhằm đoàn kết tổ chức hướng dẫn phong trào đấu tranh giải phóng dân tộc ở thuộc địa nhiều bài báo người đưa tác phẩm bản án chế độ thực dân pháp xuất bản năm l925 đây công trình nghiên cứu về bản chất chủ nghĩa thực dân thức tỉnh cổ vũ nhân dân nước thuộc địa đứng tự giải phóng tháng 6 năm 1923 nguyễn ái quốc pháp sang liên xô người làm trong quốc tế cộng sản tháng 10 năm l923 hội nghị quốc tế nông dân lần thứ nhất nguyễn ái quốc bầu hội đồng quốc tế nông dân người đại biểu duy nhất nông dân thuộc địa cử đoàn chủ tịch hội đồng người tham dự đại hội quốc tế cộng sản lần thứ v đại hội quốc tế cộng sản thanh niên lần thứ iv đại hội quốc tế công hội đỏ ngườil kiên trì bảo vệ phát triển sáng tạo tư tưởng v i lênin về vấn đề dân tộc thuộc địa hướng quan tâm quốc tế cộng sản tới phong trào giải phóng dân tộc nguyễn ái quốc ủy viên thường trực bộ phương đông trực tiếp phụ trách cục phương nam quốc tế cộng sản tháng 11 năm 1924 nguyễn ái quốc về quảng châu trung quốc chọn số thanh niên việt nam yêu nước sống ở quảng châu trực tiếp mở lớp huấn luyện đào tạo cán bộ việt nam các bài giảng người tập hợp in thành cuốn sách “đườg kách mệnh văn kiện lý luận quan trọng đặt cơ sở tư tưởng dường lối cách mạng việt nam năm 1925 người thành lập hội việt nam cách mạng thanh niên báo “thanh niên” tờ báo cách mạng đầu tiên việt nam nhằm truyền bá chủ nghĩa mác lênin về việt nam chuẩn thành lập đảng cộng sản việt nam tháng 5 năm 1927 nguyễn ái quốc rời quảng châu đi mátxcơva liên xô đi berlin đức đi bruxell bỉ tham dự phiên họp mở rộng đại hội đồng liên đoàn chống chiến tranh đế quốc đi ý về châu á tử tháng 7 năm 1928 tháng 11 năm 1929 người hoạt đông trong phong trào vận đảng việt kiều yêu nước ở thái lan tiếp tục chuẩn đời đảng cộng sản việt nam mùa xuân năm 1930 người chủ trì hội nghị thành lập đảng họp cửu long gần hương cảng thông chính cương vắn tắt sách lược vắn tắt điều lệ vắn tắt đảng cộng sản việt nam hội nghị đảng tháng 10 năm 1930 đổi tên thành đảng cộng sản đông dương đội tiên phong giai cấp công nhân toàn thể dân tộc việt nam lãnh đạo nhân dân việt nam tiến hành cách mạng giải phóng dân tộc ngay đời đảng cộng sản việt nam lãnh đạo cao trào cách mang 1930 1931 đỉnh cao xô viết nghệ tĩnh cuộc tổng diễn tập đầu tiên cách mạng tháng tám năm 1945 tháng 6 năm 1931 nguyễn ái quốc chính quyền anh bắt giam hong kong đây thời kỳ sóng gió trong cuộc đời hoạt đảng cách mạng nguyễn ái quốc mùa xuân năm 1933 người trả tự từ năm 1934 1938 người nghiên cứu viện nghiên cứu vấn đề dân tộc thuộc địa matxcova kiên trì con đường xác định cách mang việt nam người tiếp tục dõi đạo phong trào cách mạng trong nước tháng 10 năm 1938 người rời liên xô về trung quốc bắt liên lạc tổ chức đảng chuẩn về nước ngày 28 tháng 1 năm 1941 người về nước hơn 30 năm xa tổ quốc bao nhiêu năm thương nhớ đợi chờ biên giới người vô xúc động tháng 5 năm 1941 người triệu tập hội nghị lần thứ tám ban chấp hành trung ương đảng quyết định đường lối cứu nước trong thời kỳ mới thành lập việt nam độc lập đồng minh việt minh tổ chức lực lượng vũ trang giải phóng xây dựng căn địa cách mạng tháng 8 năm 1942 lấy tên hồ chí minh người đại diện mặt trận việt minh phân hội việt nam thuộc hiệp hội quốc tế chống xâm lược sang trung quốc tìm liên minh quốc tế phối hợp hành động chống phát xít chiến trường thái bình dương người chính quyền địa phương tưởng giới thạch bắt giam trong nhà lao tỉnh qủang tây trong thời gian 13 tháng bi tù người viết tập thơ “ngục trung nhật ký nhật ký trong tù 133 bài thơ chữ hán tháng 9 năm 1943 người trả tự tháng 9 năm 1944 người trở về căn cao bằng tháng 12 năm 1944 người thị thành lập đội việt nam tuyên truyền giải phóng quân tiền thân quân đội nhân dân việt nam cuộc chiến tranh thế giới thứ ii bước giai đoạn cuối thắng lợi liên xô nước đồng minh tháng 5 năm 1945 hồ chí minh rời cao bằng về tân trào tuyên quang tại đề nghị người hội nghị toàn quốc đảng đại hội quốc dân đã hop quyếtđịnh tổngkhởi nghĩa đại hội quốc dân bầu ủy ban giải phóng dân tộc việt nam tức chính phủ lâm thời hồ chí minh làm chủ tịch tháng 8 năm 1945 người lãnh đạo nhân dân khởi nghĩa giành chính quyền trong nước ngày 2 tháng 9 năm j 945 quảng trường ba đình lịch sử người đọc “tuyên ngôn độc lập” tuyên bố thành lập nước việt nam dân chủ cộng hòa người trở thành vị chủ tịch đầu tiên nước việt nam độc lập ngay thực dân pháp gây chiến tranh âm mưu xâm chiếm việt nam lần trước nạn ngoại xâm chủ tịch hồ chí minh kêu gọi nước đứng bảo vệ độc lập tự tổ quốc tinh thần “chúng ta thà hy sinh tất nhất định chịu mất nước nhất định chịu làm nô lệ” người khởi xướng phong trào thi đua yêu nước trung ương đảng lãnh đạo nhân dân việt nam tiến hành cuộc kháng chiến toàn dân toàn diện trường kỳ dựa sức mình chính bước giành thắng lợi đại hội lần thứ ii đảng 1951 người bầu làm chủ tịch đảng lao động việt nam dưới lãnh đạo trung ương đảng chủ tịch hồ chí minh cuộc kháng chiến thần thánh nhân dân việt nam chống thưc dân pháp xâm lược giành thắng lợi to lớn kết húc vẻ vang bằng chiến thắng lịch sử điện biên phủ 1954 giải phóng hoàn toàn miền bắc từ năm 1954 người trung ương đảng lao động việt nam lãnh đạo nhân dân xây dựng chủ nghĩa xã hội ở miền bắc đấu tranh giải phóng miền nam thống nhất tổ quốc đại hội đảng lao động việt nam lần thứ iii họp tháng 9 năm 1960 người khẳng định “đại hội lần đại hội xây dựng chủ nghĩa xã hội ở miền bắc đấu tranh hòa bình thống nhất nước nhà” tại đại hội người bầu làm chủ tịch ban chấp hành trung ương đảng năm 1964 đế quốc mỹ mở cuộc chiến tranh phá hoại bằng quân đánh phá miền bắc việt nam người động viên toàn thể nhân dân việt nam vượt khó khăn gian khổ quyết tâm đánh thắng giặc mỹ xâm lược người nói “chiến tranh thể kéo dài 5 năm 10 năm 20 năm hoặc lâu hơn hà nội hải phòng số thành phố xí nghiệp thể tàn phá song nhân dân việt nam quyết sợ không quý hơn độc lập tự đến ngày thắng lợi nhân dân ta xây dựng đất nước ta đàng hoàng hơn to đẹp hơn” từ năm 1965 năm 1969 trung ương đảng người tiếp tục lãnh đạo nhân dân việt nam thực hiện nghiệp cách mạng trong kiện nước chiến tranh xây dựng bảo vệ miền bắc đấu tranh giải phóng miền nam thực hiện thống nhất đất nước ngày 2 9 1969 người trần hưởng thọ 79 tuổi trước đời chủ tịch hồ chí minh nhân dân việt nam bản di chúc lịch sử người viết “điều mong muốn cuối tôi toàn đảng toàn dân ta đoàn kết phấn đấu xây dựng nước việt nam hòa bình thống nhất độc lập dân chủ giàu mạnh góp phần xứng đáng nghiệp cách mạng thế giới” thực hiện di chúc người toàn dân việt nam đă đoàn kết lòng đánh thắng cuộc chiến tranh phá hoại bằng máy bay b52 đế quốc mỹ buộc chính phủ mỹ ký hiệp định pari ngày 27 tháng 1 năm 1973 chấm dứt chiến tranh xâm lược rút hết quân đội mỹ chư hầu khỏi miền nam việt nam mùa xuân năm 1975 chiến dịch hồ chí minh lịch sử nhân dân việt nam hoàn thành nghiệp giải phóng miền nam thống nhất tổ quốc thực hiện mong ước thiêng liêng chủ tịch hồ chí minh chủ tịch hồ chí minh lãnh tu vĩ đại dân tộc việt nam người vân dụng phát triển sáng tạo chủ nghĩa mác lênin kiện cụ thể nước ta sáng lập đảng mác lênin ở việt nam sáng lập mặt trận dân tộc thống nhất việt nam sáng lập lực lượng vũ trang nhân dân việt nam sáng lập nước việt nam dân chủ cộng hòa nay cộng hòa xã hội chủ nghĩa việt nam người luôn luôn kết hợp chặt chẽ cách mạng việt nam cuộc đấu tranh chung nhân dân thế giới hòa bình độc lập dân tộc dân chủ tiến bộ xã hội người tấm gương đạo đức cao kiệm liêm chính chí công vô tư vô khiêm tốn giản dị năm 1987 tổ chức giáo dục khoa học văn hóa liên hợp quốc unesco công nhận hồ chí minh anh hùng giải phóng dân tộc nhà văn hóa kiệt xuất ngày nay trong nghiệp đổi mới đất nước hội nhập thế glới tư tưởng hồ chí minh tài sản tinh thần to lớn đảng dân tộc ta mãi mãi soi đường cuộc đấu tranh nhân dân việt nam mục tiêu dân giàu nước mạnh xã hội công bằng dân chủ văn minh nguồn bảo tàng hồ chí minh – tháng 5 năm 2004 ...\n",
            "\n",
            "==========================================\n",
            "\n",
            "\n",
            "\n",
            "\n",
            "Question:  Hồ Chí Minh ra đi tìm đường cứu nước vào năm nào ?\n",
            "\n",
            "Overlap key word:  6\n",
            "\n",
            "Answer:  1979\n",
            "\n",
            "IR Sccore:  0.08834554134479577\n",
            "\n",
            "Bert Score:  0.9997272103930774\n",
            "\n",
            "Content:  võ nguyên giáp sinh 1911 võ nguyên giáp sinh 1911 nhà hoạt động nổi tiếng đảng cộng sản nhà nước việt nam nhà huy nhà lí luận quân xuất sắc việt nam quê xã lộc thuỷ huyện lệ thuỷ tỉnh quảng bình sớm hoạt động cách mạng tham gia lãnh đạo phong trào học sinh huế 1925 tham gia tân việt cách mạng đảng bị thực dân pháp bắt 1930 đưa về quê quản thúc ra hà nội tham gia hoạt động trong phong trào mặt trận dân chủ tham gia sáng lập báo lao động tiếng nói chúng ta biên tập báo tin tức dân chúng chủ tịch uỷ ban báo chí bắc kỳ trong phong trào đông dương đại hội gia nhập đảng cộng sản đông dương 1940 gây dựng cơ sở cách mạng tổ chức việt minh ở cao bằng 1941 tổ chức ban xung phong nam tiến 1942 được lãnh tụ nguyễn ái quốc giao tổ chức đội việt nam tuyên truyền giải phóng quân 12 1944 huy đội đánh thắng hai trận đầu ở phai khắt 25 12 1944 nà ngần 26 12 1944 uỷ viên uỷ ban quân cách mạng bắc kỳ tư lệnh việt nam giải phóng quân uỷ viên ban chỉ huy lâm thời khu giải phóng việt bắc tham gia uỷ ban khởi nghĩa toàn quốc uỷ viên uỷ ban dân tộc giải phóng việt nam 8 1945 uỷ viên ban chấp hành trung ương uỷ viên thường vụ ban chấp hành trung ương đảng 1945 bộ trưởng bộ nội vụ bí thư đảng đoàn chính phủ 8 1945 chủ tịch quân uỷ viên hội 4 1946 phó trưởng đoàn chính phủ việt nam dân chủ cộng hòa đàm phán pháp hội nghị trù đà lạt 1946 uỷ viên ban chấp hành trung ương đảng khoá ii vi uỷ viên bộ chính trị khoá ii iv bí thư tổng quân uỷ quân uỷ trung ương 1946 77 bộ trưởng bộ quốc phòng 1946 1947 đại tướng 1948 tổng huy quân đội quốc gia dân quân việt nam tổng tư lệnh quân đội nhân dân việt nam 1975 uỷ viên hội đồng quốc phòng 1948 trong kháng chiến chống pháp trực tiếp huy chiến dịch lớn đặc biệt chiến dịch điện biên phủ 1954 trong kháng chiến chống mĩ đạo chiến dịch lớn đặc biệt chiến dịch hồ chí minh 1975 phó thủ tướng kiêm bộ trưởng bộ quốc phòng 1955 1980 phó chủ tịch hội đồng bộ trưởng 1981 1991 đại biểu quốc hội khoá i vii tác phẩm vấn đề dân cày đồng tác giả khu giải phóng 1946 đội quân giải phóng 1947 chiến tranh giải phóng quân đội nhân dân ba giai đoạn chiến lược 1950 điện biên phủ 1964 mấy vấn đề đường lối quân đảng 1970 vũ trang quần chúng cách mạng xây dựng quân đội nhân dân 1972 chiến tranh giải phóng dân tộc chiến tranh bảo vệ tổ quốc 1979 tư tưởng hồ chí minh con đường cách mạng việt nam 2000 vv huân chương sao vàng hai huân chương hồ chí minh hai huân chương quân công hạng nhất huân chương cao quý khác ...\n",
            "\n",
            "==========================================\n",
            "\n",
            "\n",
            "\n",
            "\n",
            "Question:  Hồ Chí Minh ra đi tìm đường cứu nước vào năm nào ?\n",
            "\n",
            "Overlap key word:  6\n",
            "\n",
            "Answer:  1888\n",
            "\n",
            "IR Sccore:  0.06579281604893361\n",
            "\n",
            "Bert Score:  0.8873188535161621\n",
            "\n",
            "Content:  nguyễn đình chiểu hiệu trọng phủ thường gọi đồ chiểu 1822 1888 nguyễn đình chiểu hiệu trọng phủ thường gọi đồ chiểu 1822 1888 nhà thơ yêu nước việt nam quê thừa thiên huế sinh lớn xã tân thới huyện bình dương tỉnh gia định nay thành phố hồ chí minh đỗ tú tài năm 1843 năm 1848 huế chờ thi hương tin mẹ mất về nhà chịu tang đường về mù từ làm nghề dạy học bốc thuốc sáng tác thơ văn thơ văn nguyễn đình chiểu bằng chữ nôm hiện tượng hết sức độc đáo những tác phẩm đầu tay truyện thơ “dương từ hà mậu” “lục vân tiên” nêu cao đạo làm người chân chính nghiêm khắc phê phán suy thoái về đạo lí nhân phẩm khi pháp đánh gia định ông sáng tác văn thơ đánh địch ca ngợi dũng khí chiến đấu nghĩa sĩ tác phẩm chính “văn tế nghĩa sĩ cần giuộc” “văn tế trương định” “thơ điếu trương định” “văn tế nghĩa sĩ trận vong lục tỉnh” “thơ điếu phan công tòng” “thảo thử hịch” “ngư tiều y thuật vấn đáp” “ngư tiều y thuật vấn đáp” tổng kết kinh nghiệm bốc thuốc chữa bệnh ấp ủ lòng yêu nước thiết tha tin tưởng đất nước giải phóng thơ văn nguyễn đình chiểu lương tri người trí thức yêu nước lời thơ mộc mạc giản dị sôi nổi đằm thắm tác phẩm truyền tụng “lục vân tiên” ...\n",
            "\n",
            "==========================================\n",
            "\n",
            "\n",
            "\n",
            "\n",
            "Question:  Hồ Chí Minh ra đi tìm đường cứu nước vào năm nào ?\n",
            "\n",
            "Overlap key word:  6\n",
            "\n",
            "Answer:  1802\n",
            "\n",
            "IR Sccore:  0.05248121452937135\n",
            "\n",
            "Bert Score:  0.6137240789193161\n",
            "\n",
            "Content:  gia long hoàng đế 1802 1819 ông chính tên nguyễn phước ánh sinh nǎm 1762 con ông nguyễn phước luân bà nguyễn thị hoàn cháu nội võ vương nguyễn phước khoát cha hãm hại ông ở chúa định vương nguyễn phước thuần 4 tuổi cơ nghiệp họ nguyễn suy sụp thuận hóa mất chúa tôi chạy gia định tây sơn giết nguyễn phước thuần nguyễn phước dương nguyễn phước ánh trốn đảo thổ chu mưu đồ khôi phục dù ấy ông còn ít tuổi đến nǎm 1779 ông mới 17 tuổi thu hạ tôn làm đại nguyên súy nǎm 1780 xưng vương 18 tuổi niên hiệu nhà lê dốc sức cự tây sơn nhưng liên tiếp thất bại hai lần chạy trốn đảo phú quốc lần chạy sang xiêm bơ vơ biển thiếu thốn đủ đường nhờ chí kiên trì cuối thắng lợi nǎm 1802 nguyễn phước ánh ngôi hoàng đế lấy niên hiệu gia long khi ngôi vua gia long kịp thời đặt quan hệ ngoại giao xin cầu phong nhà thanh liên hệ xiêm la châu lạp kết quả thỏa đáng nước láng giềng ủng hộ ông đặt tên nước nam việt nhà thanh tên nước nam việt lẫn nước triệu đà ngày xưa đổi việt nam nhà vua chú trọng định pháp luật nǎm 1815 bộ quốc triều hình luật gồm 398 đặc trưng ban hành các tài chính thuế khóa tiền tệ đo lường giao thông đê vv quan tâm đưa nề nếp ông thành lập thành trấn nội trấn ngoại trấn lập sở địa bạ đặt lục bộ tam tào bỏ ngôi vịnh hoàng hậu tể tướng trạng nguyên gia long còn ý thức chấn hưng vǎn hóa phát huy truyền thống nhằm khẳng định thế lực danh tiếng vương triều từ 1801 gia long lệnh soạn bộ sử cương mục chính biên tiền liên nǎm 1810 lê quang định làm xong sách nhất thống địa dư chí ông lập vǎn miếu mở khoa thi hương thi hội từ thế kỷ l 7 chúa trịnh nguyễn ở đàng ngoài đàng trong sử dụng giáo sĩ thương nhân nước ngoài mua vũ khí khai thác khả nǎng nhằm tǎng cường thế lực mình nhưng nguyễn phước ánh mới chính thức đi tìm ngoại viện ông cầu viện quân xiêm chẳng đi đâu quân xiêm sợ quân tây sơn sợ cọp cả quân xiêm quân nguyễn ánh nguyễn huệ đánh tan tác bằng chiến thắng rạch gầm xoài mút 1785 gia long còn nhờ cổ đạo bá đa lộc mong cầu cứu pháp con hoàng tử canh sang pháp làm con tin ký hiệp ước ngày 28 11 1787 nước pháp quan tâm hiệp ước thực hiện quản lý nước việt nam thống nhất bắc chí nam gia long chia nước làm 23 trấn 4 doanh từ ninh bình trở gọi bắc thành gồm 11 trấn 5 nội trấn 6 ngoại trấn bình thuận trở gọi gia định thành gồm 5 trấn ở quãng giữa trấn độc lập thanh hóa nghệ an quảng ngãi bình định phú yên bình hòa bình thuận đất kinh kì đặt 4 doanh quảng đức doanh tức thừa thiên quảng trị doanh quảng bình doanh quảng nam doanh để tránh lộng quyền đầu nhà vua bãi bỏ chức vụ tể tướng ở triều đình đặt 6 bộ lại hộ lễ binh hình công thượng thư đứng đầu tả hữu tham trí tả hữu thị lang giúp ở trong cung lập ngôi hoàng hậu hoàng phi cung tần công cuộc khai hoang vùng đồng bằng sông cửu long tiếp tục thời gia long khối lượng đê kè cống đắp nhất triều về đối ngoại gia long tranh thủ ủng hộ giữ lễ thần phục nhà thanh đồng thời giữ mối quan hệ chân lạp ai lao cũng vua chúa khác gia long đối xử tốt công thần sau ngôi gia long giết hại vị công thần bậc nhất triều nguyễn nguyễn vǎn thành còn điểm gây tai tiếng gia long tìm cách trả thù đối phương mình cách man rợ có thể ví nhà tây sơn phá tan cơ nghiệp dòng họ nguyễn có thể trốn tây sơn gia long chịu đựng quá đắng cay nhục nhã ngôi gia long thẳng tay trả thù gia long tuyên bố trẫm chín đời trả thù trả thù kẻ địch tôn vinh người khuất trong dòng họ nguyễn nhưng tàn bạo nhỏ nhen gia long thuyết phục ai biến ông thành kẻ tầm thường xứng đáng ông vua sáng lập triều đại nhà nguyễn ngày đinh mùi tháng 12 nǎm kỷ mão 1819 gia long mất thọ 59 tuổi ở ngôi chúa 25 nǎm làm vua trong 18 nǎm ...\n",
            "\n",
            "==========================================\n",
            "\n",
            "\n",
            "\n",
            "\n",
            "Question:  Hồ Chí Minh ra đi tìm đường cứu nước vào năm nào ?\n",
            "\n",
            "Overlap key word:  7\n",
            "\n",
            "Answer:  1841\n",
            "\n",
            "IR Sccore:  0.05065865279874536\n",
            "\n",
            "Bert Score:  0.980379475939154\n",
            "\n",
            "Content:  cao bá quát kỉ tị 1809 – giáp dần 1854 danh sĩ thời tự đức tự chu thần hiệu cúc đường biệt hiệu mẫn hiên quê làng phú thị huyện gia lâm tỉnh bắc ninh nay thuộc xã quyết chiến huyện gia lâm ngoại thành hà nội ông em sinh đôi cao bá đạt nổi tiếng văn chương đương thời tổ xa đời cao bá hiên làm thượng thư bộ binh đời hậu lê cha cao cửu chiếu bậc tài danh đương thời năm tân mão 1831 ông 22 tuổi đậu á nguyên trường thi hà nội nhưng thi hội 2 phen đánh hỏng ông buồn thi cử ngao du non nước năm tân sửu 1841 quan đầu tỉnh bắc ninh cử ông triều đình ông triệu kinh sung chức hành tẩu bộ lễ ít lâu cử chấm thi ở trường hương thừa thiên ông bạn đồng phan nhạ dùng khói đèn chữa ít quyển văn hay phạm húy toan cứu vớt người tài việc phát giác giám sát trường thi hồ trọng tuấn đàn hặc ông kết tội chết nhưng vua thiệu trị giảm tội ông cách chức phát phối đà nẵng gặp sứ bộ đào trí phú sang tân gia ba công cán ông tha rời khỏi phối sở sứ bộ đi lập công chuộc tội xong trở về ông phục chức cũ thăng làm chủ năm giáp dần 1854 ông đổi sơn tây làm giáo thọ ở phủ quốc oai ông buồn chán phẩn chí bỏ quan làm quân sư lê duy cự chống triều đình việc khởi nghĩa ở mĩ lương thất bại ông bắt hành quyết hai con cao bá phùng cao bá phong năm ông 45 tuổi anh ông bá đạt liên lụy ông còn đời bộ sách chu thần thi tập thơ văn ông dù bằng chữ hán hoặc quốc âm hay giá trị nghệ thuật những bài ca trù ông xuất sắc đặc biệt bài phú tài tử đa riêng bài thôi đủ nêu cao tên tuổi ông đối văn học nước nhà khi ông mất mới 45 tuổi bạn ông phương đình nguyễn văn siêu bài thơ truy điệu ông thâm trầm ...\n",
            "\n",
            "==========================================\n",
            "\n",
            "\n",
            "\n"
          ],
          "name": "stdout"
        }
      ]
    }
  ]
}