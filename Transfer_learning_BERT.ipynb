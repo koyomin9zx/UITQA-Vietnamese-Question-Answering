{
  "nbformat": 4,
  "nbformat_minor": 0,
  "metadata": {
    "colab": {
      "name": "Transfer_learning_BERT.ipynb",
      "provenance": [],
      "mount_file_id": "https://github.com/koyomin9zx/UITQA-Vietnamese-Question-Answering/blob/master/Transfer_learning_BERT.ipynb",
      "authorship_tag": "ABX9TyN2gG9RfHG3h++S6HDwQkIi",
      "include_colab_link": true
    },
    "kernelspec": {
      "name": "python3",
      "display_name": "Python 3"
    },
    "accelerator": "GPU"
  },
  "cells": [
    {
      "cell_type": "markdown",
      "metadata": {
        "id": "view-in-github",
        "colab_type": "text"
      },
      "source": [
        "<a href=\"https://colab.research.google.com/github/koyomin9zx/UITQA-Vietnamese-Question-Answering/blob/master/Transfer_learning_BERT.ipynb\" target=\"_parent\"><img src=\"https://colab.research.google.com/assets/colab-badge.svg\" alt=\"Open In Colab\"/></a>"
      ]
    },
    {
      "cell_type": "code",
      "metadata": {
        "id": "u9q2ppob0gGI",
        "colab_type": "code",
        "colab": {}
      },
      "source": [
        "!pip install cdqa "
      ],
      "execution_count": 0,
      "outputs": []
    },
    {
      "cell_type": "code",
      "metadata": {
        "id": "jayqoptybvJb",
        "colab_type": "code",
        "colab": {}
      },
      "source": [
        "!ln -s /content/drive/'My Drive'/dataset"
      ],
      "execution_count": 0,
      "outputs": []
    },
    {
      "cell_type": "code",
      "metadata": {
        "id": "efJU6fzFbMEp",
        "colab_type": "code",
        "colab": {}
      },
      "source": [
        "#import lib\n",
        "import torch\n",
        "from cdqa.reader import BertQA\n",
        "from transformers import BertForQuestionAnswering\n",
        "from cdqa.pipeline import QAPipeline\n",
        "from cdqa.utils.download import download_squad, download_model, download_bnpp_data\n",
        "import joblib\n",
        "import os"
      ],
      "execution_count": 0,
      "outputs": []
    },
    {
      "cell_type": "code",
      "metadata": {
        "id": "R16NF4NGbT2Y",
        "colab_type": "code",
        "colab": {}
      },
      "source": [
        "#convert pytorch model to joblib\n",
        "reader = BertQA()\n",
        "reader.model = BertForQuestionAnswering.from_pretrained(\"bert-base-multilingual-cased\")\n",
        "reader.model.to('cpu')\n",
        "reader.device = torch.device('cpu')\n",
        "joblib.dump(reader, os.path.join(path, 'pre_train.joblib'))"
      ],
      "execution_count": 0,
      "outputs": []
    },
    {
      "cell_type": "code",
      "metadata": {
        "id": "UZcKPum8beSQ",
        "colab_type": "code",
        "colab": {}
      },
      "source": [
        "#trainning\n",
        "cdqa_pipeline = QAPipeline(reader='./dataset/bert_qa.joblib') # use 'distilbert_qa.joblib' for DistilBERT instead of BERT\n",
        "cdqa_pipeline.fit_reader('./dataset/train_reg.json')"
      ],
      "execution_count": 0,
      "outputs": []
    }
  ]
}