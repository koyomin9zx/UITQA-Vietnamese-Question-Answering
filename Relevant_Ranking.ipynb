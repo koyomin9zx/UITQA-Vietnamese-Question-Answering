{
  "nbformat": 4,
  "nbformat_minor": 0,
  "metadata": {
    "colab": {
      "name": "Relevant_Ranking.ipynb",
      "provenance": [],
      "authorship_tag": "ABX9TyMERRydWb7pduGg5UjwJqSQ",
      "include_colab_link": true
    },
    "kernelspec": {
      "name": "python3",
      "display_name": "Python 3"
    }
  },
  "cells": [
    {
      "cell_type": "markdown",
      "metadata": {
        "id": "view-in-github",
        "colab_type": "text"
      },
      "source": [
        "<a href=\"https://colab.research.google.com/github/koyomin9zx/UITQA-Vietnamese-Question-Answering/blob/master/Relevant_Ranking.ipynb\" target=\"_parent\"><img src=\"https://colab.research.google.com/assets/colab-badge.svg\" alt=\"Open In Colab\"/></a>"
      ]
    },
    {
      "cell_type": "code",
      "metadata": {
        "id": "tUAUJCSJevOi",
        "colab_type": "code",
        "colab": {}
      },
      "source": [
        "# importing libraries \n",
        "from sklearn.feature_extraction.text import TfidfVectorizer \n",
        "from sklearn.metrics.pairwise import cosine_similarity \n",
        "from scipy.spatial import distance \n",
        "import pandas as pd \n",
        "import numpy as np \n",
        "import glob"
      ],
      "execution_count": 0,
      "outputs": []
    },
    {
      "cell_type": "code",
      "metadata": {
        "id": "1Tq3XLTMfvtb",
        "colab_type": "code",
        "colab": {}
      },
      "source": [
        "## Converting 3D array of array into 1D array \n",
        "def arr_convert_1d(arr): \n",
        "    arr = np.array(arr) \n",
        "    arr = np.concatenate( arr, axis=0 ) \n",
        "    arr = np.concatenate( arr, axis=0 ) \n",
        "    return arr \n",
        "   \n",
        "## Cosine Similarity \n",
        "def cosine(trans): \n",
        "    cos = [] \n",
        "    cos.append(cosine_similarity(trans[0], trans[1])) \n",
        "    return cos"
      ],
      "execution_count": 0,
      "outputs": []
    },
    {
      "cell_type": "code",
      "metadata": {
        "id": "vQHpCDAngAky",
        "colab_type": "code",
        "colab": {}
      },
      "source": [
        "def load_data(path):\n",
        "  data=[]\n",
        "  all_files = glob.glob(path + \"/*.txt\")\n",
        "  for file in all_files:\n",
        "      passage=open(file, \"r\", encoding='utf-8').read()\n",
        "      data.append(passage)\n",
        "  return data\n",
        "\n",
        "\n",
        "\n",
        "def tfidf(str1, str2,tf_idf_vetor):  \n",
        "    corpus = [str1,str2] \n",
        "    trans = tf_idf_vetor.transform(corpus) \n",
        "    cos=cosine(trans) \n",
        "    print('\\nScore: ',arr_convert_1d(cos)[0])\n",
        "    return arr_convert_1d(cos)[0]\n",
        "   \n"
      ],
      "execution_count": 0,
      "outputs": []
    },
    {
      "cell_type": "code",
      "metadata": {
        "id": "yMX8O3JvqIts",
        "colab_type": "code",
        "colab": {}
      },
      "source": [
        "data=load_data('/content/')\n",
        "vect = TfidfVectorizer() \n",
        "vect.fit(data)"
      ],
      "execution_count": 0,
      "outputs": []
    },
    {
      "cell_type": "code",
      "metadata": {
        "id": "K8f0h-m3hR1X",
        "colab_type": "code",
        "colab": {
          "base_uri": "https://localhost:8080/",
          "height": 658
        },
        "outputId": "0730b12d-880d-49fc-cb0a-3b3b4afd7773"
      },
      "source": [
        "query='Chu Văn An sinh năm nào?'\n",
        "\n",
        "score=[]\n",
        "for i in data:\n",
        "  print(i[:200],'...')\n",
        "  tfidf(query,i,vect)\n",
        "  print(\"\\n\\n=========================================================\\n\\n\\n\")"
      ],
      "execution_count": 99,
      "outputs": [
        {
          "output_type": "stream",
          "text": [
            "Chu Văn An (1292 - 1370)\n",
            "\n",
            "Chu Văn An - Nhà giáo dục đầu tiên của Việt Nam\n",
            "\n",
            "Chu Văn An (còn gọi là Chu An) người thôn Văn, Xã Quang Liệt, nay là Thanh Liệt, huyện Thanh Trì, Hà Nội (quê mẹ). Theo Đăng  ...\n",
            "\n",
            "Score:  0.2751091441618257\n",
            "\n",
            "\n",
            "=========================================================\n",
            "\n",
            "\n",
            "\n",
            "Nguyễn Quang Toản (sinh Qúi Mão 1783- mất Nhâm Tuất 1802)\n",
            "\n",
            "Cảnh Thịnh Hoàng đế (Thời gian ở ngôi 1793-1802)\n",
            "\n",
            "Quang Trung mất ở tuổi 39, khi các con còn nhỏ. Quang Toản là con trưởng mà cũng mới lên 10 ...\n",
            "\n",
            "Score:  0.1162921487252936\n",
            "\n",
            "\n",
            "=========================================================\n",
            "\n",
            "\n",
            "\n",
            "Cao Bá Quát (Kỉ Tị 1809 – Giáp Dần 1854)\n",
            "\n",
            "Danh sĩ thời Tự Đức, tự Chu Thần, hiệu Cúc Đường, biệt hiệu Mẫn Hiên, quê làng Phú Thị, huyện Gia Lâm, tỉnh Bắc Ninh (nay thuộc xã Quyết Chiến, huyện Gia Lâm, ...\n",
            "\n",
            "Score:  0.1039600284433353\n",
            "\n",
            "\n",
            "=========================================================\n",
            "\n",
            "\n",
            "\n"
          ],
          "name": "stdout"
        }
      ]
    }
  ]
}