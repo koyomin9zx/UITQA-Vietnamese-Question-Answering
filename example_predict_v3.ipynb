{
  "nbformat": 4,
  "nbformat_minor": 0,
  "metadata": {
    "colab": {
      "name": "example_predict.ipynb",
      "provenance": [],
      "include_colab_link": true
    },
    "kernelspec": {
      "name": "python3",
      "display_name": "Python 3"
    },
    "accelerator": "GPU"
  },
  "cells": [
    {
      "cell_type": "markdown",
      "metadata": {
        "id": "view-in-github",
        "colab_type": "text"
      },
      "source": [
        "<a href=\"https://colab.research.google.com/github/koyomin9zx/UITQA-Vietnamese-Question-Answering/blob/master/example_predict_v3.ipynb\" target=\"_parent\"><img src=\"https://colab.research.google.com/assets/colab-badge.svg\" alt=\"Open In Colab\"/></a>"
      ]
    },
    {
      "cell_type": "code",
      "metadata": {
        "id": "BslQeHl4qVUj",
        "colab_type": "code",
        "colab": {}
      },
      "source": [
        "!git clone https://github.com/koyomin9zx/UITQA-Vietnamese-Question-Answering.git"
      ],
      "execution_count": 0,
      "outputs": []
    },
    {
      "cell_type": "code",
      "metadata": {
        "id": "mUKLdjyk2kAJ",
        "colab_type": "code",
        "colab": {}
      },
      "source": [
        "!pip install pytorch-transformers\n",
        "!pip install underthesea \n",
        "!pip install unidecode\n",
        "!pip install whoosh"
      ],
      "execution_count": 0,
      "outputs": []
    },
    {
      "cell_type": "code",
      "metadata": {
        "id": "N9p5f4LHYj00",
        "colab_type": "code",
        "colab": {}
      },
      "source": [
        "from google.colab import drive\n",
        "drive.mount('/content/drive')"
      ],
      "execution_count": 0,
      "outputs": []
    },
    {
      "cell_type": "code",
      "metadata": {
        "id": "azCO_Yqt5awd",
        "colab_type": "code",
        "colab": {}
      },
      "source": [
        "!ln -s /content/drive/'My Drive'/data\n",
        "!mv /content/UITQA-Vietnamese-Question-Answering/combine.py /content"
      ],
      "execution_count": 0,
      "outputs": []
    },
    {
      "cell_type": "code",
      "metadata": {
        "id": "-X4w72iQ6VhJ",
        "colab_type": "code",
        "colab": {}
      },
      "source": [
        "# importing libraries \n",
        "from underthesea import word_tokenize, sent_tokenize\n",
        "from sklearn.feature_extraction.text import TfidfVectorizer \n",
        "from sklearn.metrics.pairwise import cosine_similarity \n",
        "from scipy.spatial import distance \n",
        "from collections import defaultdict, OrderedDict \n",
        "from string import punctuation\n",
        "import unidecode\n",
        "import re\n",
        "import pandas as pd \n",
        "import numpy as np \n",
        "import glob\n",
        "from combine import QA\n",
        "import time\n",
        "import sys\n",
        "import os\n",
        "from whoosh.fields import Schema, TEXT, STORED\n",
        "from whoosh.index import create_in, open_dir\n",
        "from whoosh.query import *\n",
        "from whoosh.qparser import QueryParser\n",
        "from underthesea import pos_tag"
      ],
      "execution_count": 0,
      "outputs": []
    },
    {
      "cell_type": "code",
      "metadata": {
        "id": "FlQ8dspK2OwP",
        "colab_type": "code",
        "outputId": "e49439d0-1366-43b9-b565-4df49c3cf82b",
        "colab": {
          "base_uri": "https://localhost:8080/",
          "height": 34
        }
      },
      "source": [
        "start = time.time()\n",
        "model=QA('/content/data/BERT_Squad_WIki_UIT_pretrain') #path to model\n",
        "end = time.time()\n",
        "print(\"time load model: \"+str(round((end - start),2)))"
      ],
      "execution_count": 6,
      "outputs": [
        {
          "output_type": "stream",
          "text": [
            "time load model: 32.83\n"
          ],
          "name": "stdout"
        }
      ]
    },
    {
      "cell_type": "code",
      "metadata": {
        "id": "tvcP8N1z6bwS",
        "colab_type": "code",
        "colab": {}
      },
      "source": [
        "def load_data(path):\n",
        "  data=[]\n",
        "  all_files = glob.glob(path + \"/*.txt\")\n",
        "  for file in all_files:\n",
        "      passage=open(file, \"r\", encoding='utf-8').read()\n",
        "      data.append(passage)\n",
        "  return data\n",
        "\n",
        "def vi_tokenizer(row):\n",
        "    return word_tokenize(row, format=\"text\")\n",
        "\n",
        "def remove_stopwords(stopwords,text):\n",
        "  sent = [s for s in text.split() if s not in stopwords ]\n",
        "  sent = ' '.join(sent)\n",
        "  return sent\n",
        "\n",
        "\n",
        "def remove_punctuation(row):\n",
        "  remove = punctuation\n",
        "  remove = remove.replace(\"_\", \"\")\n",
        "  pattern = \"[{}]\".format(remove) # create the pattern\n",
        "  re_space=re.compile('\\s+')\n",
        "  re_trailing=re.compile('^\\s+|\\s+?$')\n",
        "  row=re.sub(pattern, \" \", row) \n",
        "  row=re.sub(re_space,' ',row)\n",
        "  row=re.sub(re_trailing,' ',row)\n",
        "  row = row.strip()\n",
        "  row =row.lower()\n",
        "  return row\n",
        "\n",
        "def standardize_data(df,stopwords):\n",
        "    hl_cleansed=[]\n",
        "    remove = punctuation\n",
        "    #remove = remove.replace(\"_\", \"\")\n",
        "    pattern = \"[{}]\".format(remove) # create the pattern\n",
        "    re_space=re.compile('\\s+')\n",
        "    re_trailing=re.compile('^\\s+|\\s+?$')\n",
        "    for row in df:\n",
        "        #row = vi_tokenizer(row)\n",
        "        row=re.sub(pattern, \" \", row) \n",
        "        row=re.sub(re_space,' ',row)\n",
        "        row=re.sub(re_trailing,' ',row)\n",
        "        row = row.strip()\n",
        "        row = remove_stopwords(stopwords,row)\n",
        "        #row = remove_accents(row)\n",
        "        #row = row.lower()\n",
        "        hl_cleansed.append(row)\n",
        "    return hl_cleansed\n",
        "\n",
        "def keywords_extraction(sent):\n",
        "  rs=\"\"\n",
        "  for i in pos_tag(sent):\n",
        "    if i[1] !='P' and i[1] != 'CH':\n",
        "      rs=rs+' '+i[0]\n",
        "  return rs.strip()\n",
        "\n",
        "\n",
        "def sentences_tokenize(text):\n",
        "    sents = sent_tokenize(text)\n",
        "    sents = [word_tokenize(s,format = 'text') for s in sents]\n",
        "    sents = [remove_punctuation(s) for s in sents]\n",
        "    sents = [s.lower() for s in sents]\n",
        "    #sents = [remove_stopwords(stopwords,s) for s in sents]\n",
        "    return sents\n",
        "\n",
        "## Converting 3D array of array into 1D array \n",
        "def arr_convert_1d(arr): \n",
        "    arr = np.array(arr) \n",
        "    arr = np.concatenate( arr, axis=0 ) \n",
        "    arr = np.concatenate( arr, axis=0 ) \n",
        "    return arr \n",
        "  \n",
        "## Cosine Similarity \n",
        "def cosine(trans): \n",
        "    cos = [] \n",
        "    cos.append(cosine_similarity(trans[0], trans[1])) \n",
        "    return cos\n",
        "\n",
        "def tfidf(str1, str2,tf_idf_vetor,stopwords):\n",
        "    str1=standardize_data([str1],stopwords)\n",
        "    str2=standardize_data([str2],stopwords)  \n",
        "    corpus = [str1[0],str2[0]] \n",
        "    trans = tf_idf_vetor.transform(corpus)\n",
        "    cos=cosine(trans) \n",
        "    return arr_convert_1d(cos)[0]\n",
        "\n",
        "def relevance_ranking(query,data,vect,stopwords):\n",
        "  query=standardize_data([query],stopwords)[0]\n",
        "  print('Query: ',query,'\\n')\n",
        "  score=defaultdict()\n",
        "  i=0\n",
        "  for d in data:\n",
        "    t=tfidf(query, d,vect,stopwords)\n",
        "    if t!=0.0:\n",
        "      score[t]=d\n",
        "    i+=1\n",
        "  return OrderedDict(sorted(score.items(),reverse=True))\n",
        "\n",
        "def whoosh_add_document(data):\n",
        "  #creating the schema\n",
        "  schema = Schema(doc_id=STORED,content=TEXT(stored=True))\n",
        "  #creating the index\n",
        "  if not os.path.exists(\"index\"):\n",
        "      os.mkdir(\"index\")\n",
        "  ix = create_in(\"index\",schema)\n",
        "  ix = open_dir(\"index\")\n",
        "  writer = ix.writer()\n",
        "  for i in range(0,len(data)):\n",
        "    writer.add_document(doc_id=\"doc_\"+str(i+1),content=data[i])\n",
        "  writer.commit()\n",
        "  return ix"
      ],
      "execution_count": 0,
      "outputs": []
    },
    {
      "cell_type": "code",
      "metadata": {
        "id": "zCvbhr-l4ehW",
        "colab_type": "code",
        "colab": {}
      },
      "source": [
        "data=load_data('/content/data/data_QA/data')\n",
        "stopwords = set(open('/content/data/data_QA/stopwords/stopwords.txt').read().split(' ')[:-1])\n"
      ],
      "execution_count": 0,
      "outputs": []
    },
    {
      "cell_type": "code",
      "metadata": {
        "id": "1QyNMEbyO1NX",
        "colab_type": "code",
        "outputId": "f93b91d2-d474-47d7-e847-51782e2baba5",
        "colab": {
          "base_uri": "https://localhost:8080/",
          "height": 134
        }
      },
      "source": [
        "#Building index\n",
        "data_standard=standardize_data(data,stopwords)\n",
        "vect = TfidfVectorizer(min_df=1, max_df=0.8,max_features=8000,sublinear_tf=True,ngram_range=(1,3)) \n",
        "vect.fit(data_standard)"
      ],
      "execution_count": 10,
      "outputs": [
        {
          "output_type": "execute_result",
          "data": {
            "text/plain": [
              "TfidfVectorizer(analyzer='word', binary=False, decode_error='strict',\n",
              "        dtype=<class 'numpy.float64'>, encoding='utf-8', input='content',\n",
              "        lowercase=True, max_df=0.8, max_features=8000, min_df=1,\n",
              "        ngram_range=(1, 3), norm='l2', preprocessor=None, smooth_idf=True,\n",
              "        stop_words=None, strip_accents=None, sublinear_tf=True,\n",
              "        token_pattern='(?u)\\\\b\\\\w\\\\w+\\\\b', tokenizer=None, use_idf=True,\n",
              "        vocabulary=None)"
            ]
          },
          "metadata": {
            "tags": []
          },
          "execution_count": 10
        }
      ]
    },
    {
      "cell_type": "code",
      "metadata": {
        "id": "BY9jZ7wU9p4F",
        "colab_type": "code",
        "colab": {}
      },
      "source": [
        "def IR_QA(query,data):\n",
        "  global stopwords\n",
        "  key_words_query=keywords_extraction(query)\n",
        "  IR_ranking=relevance_ranking(key_words_query,data,vect,stopwords)\n",
        "  rs=[]\n",
        "  for score,doc in IR_ranking.items():\n",
        "    result=dict()\n",
        "    answer = model.predict(doc,query)\n",
        "    num_overlap=len(set(key_words_query.split()) & set(doc.split()))\n",
        "    if num_overlap > 1 and answer['confidence'] >0.4:\n",
        "      result['overlap_key_words']=num_overlap\n",
        "      result['answer']=answer['answer']\n",
        "      result['ir_score']=score\n",
        "      result['bert_score']=answer['confidence']\n",
        "      result['content']=doc\n",
        "      rs.append(result)\n",
        "  return sorted(rs, key=lambda k: k['overlap_key_words'], reverse=True) \n"
      ],
      "execution_count": 0,
      "outputs": []
    },
    {
      "cell_type": "code",
      "metadata": {
        "id": "mycAMcTEGbEM",
        "colab_type": "code",
        "colab": {
          "base_uri": "https://localhost:8080/",
          "height": 1000
        },
        "outputId": "19fbd30b-1003-4045-89a4-b20b84b5657d"
      },
      "source": [
        "query=\"Lương Võ Đế sai Trần Bá Tiên đem quân sang đánh phá nước ta năm nào?\"\n",
        "\n",
        "IR_QA(query,data)"
      ],
      "execution_count": 43,
      "outputs": [
        {
          "output_type": "stream",
          "text": [
            "Query:  Lương Võ Đế sai Trần Bá Tiên đem quân sang đánh phá nước năm \n",
            "\n"
          ],
          "name": "stdout"
        },
        {
          "output_type": "execute_result",
          "data": {
            "text/plain": [
              "[{'answer': '545',\n",
              "  'bert_score': 0.7302376069797397,\n",
              "  'content': 'Triệu Quang Phục (…- Tân Mão)\\n\\nDanh tướng nhà Tiền Lý, con Thái phó Triệu Túc, quê ở Châu Biên, phủ Vĩnh Tường, tỉnh Vĩnh Yên (nay thuộc Vĩnh Phú).\\n\\nTừ năm Tân Dậu 541 ông theo cha ra giúp Lý Bôn đánh đuổi quân nhà Lương xâm lược nước ta. Năm Giáp Tí 544, khởi nghĩa thành công, Lý Bôn xưng đế, phong ông làm Tả tướng quân.\\n\\nNăm Ất Sửu 545, Lương Võ Đế lại sai Trần Bá Tiên đem quân sang đánh phá, đưa Diêu Phiêu làm Thứ sử\\n\\nNăm 546, Lý Bí phải rút quân về động Khuất Lão (Tam Nông, Phú Thọ ngày nay; có ý kiến cho rằng, Khuất Lão thuộc Tuyên Quang), giao binh cho Triệu Quang Phục. Ông lấy vùng Đầm Dạ Trạch (Khoái Châu, Hưng Yên ngày nay) làm căn cứ. Nhân dân gọi ông là Dạ Trạch Vương.\\n\\nNăm 550, ông tập trung lực lượng đánh bại quân Lương lấy lại thành Long Biên (nay thuộc Bắc Ninh). Quân sĩ suy tôn ông làm vua tức Triệu Việt Vương.\\n\\nNăm 557, Lý Phật Tử (cùng họ với Lý Bí) kéo quân về đánh, đòi ngôi vua. Sau nhiều trận bất phân thắng bại, hai bên giảng hoà, kết mối thông gia, phân chia lại địa giới.\\n\\nNăm 571, Lý Phật Tử đem quân đánh úp kinh thành, ông bị thua, chạy đến cửa Đại An (Nam Định) thì mất.',\n",
              "  'ir_score': 0.2509634875070582,\n",
              "  'overlap_key_words': 13},\n",
              " {'answer': '1005',\n",
              "  'bert_score': 0.5766138385006394,\n",
              "  'content': 'Lê Hoàn – Đại hành Hoàng đế (Tân Sửu 941-Ất Tị 1005)\\n\\nLê Hoàn là một viên tướng trẻ tài nǎng, đi theo Nam Việt Vương Đinh Liễn. Dù chỉ là lính thường nhưng trí dũng khác thường, tính tình phóng khoáng nên anh được cha con Đinh Bộ Lĩnh yêu mến. Tiếp đó Đinh Liễn được vua cha giao cho đặc trách công việc ngoại giao, liên tiếp đi sứ Trung Quốc để tranh thủ cảm tình với nhà Tống, ông đưa Lê Hoàn tiến cử lên vua cha, và quả nhiên viên tướng trẻ này đã được Tiên Hoàng ái mộ. Đinh Tiên Hoàng lên ngôi năm 43 tuổi, Lê Hoàn lúc này mới có 26 tuổi, vẫn còn quá trẻ. Nhưng Tiên Hoàng vẫn quyết định giao cho chàng trai một chức vụ quan trọng: làm quan thập đạo tướng quân, coi sóc mười đạo binh của cả nước. Người thanh niên, chưa đầy ba mươi tuổi, đã trở thành một đại nguyên soái của quốc gia đang thời kỳ trứng nước. \\n\\nBản thân Lê Hoàn cũng rất phấn khởi khi nhận nhiệm vụ này. Nhiệm vụ trọng đại, nhưng ông tự xét mình có thể cáng đáng được. Cả một quá trình tôi luyện tuy không dài lắm - chưa quá mười lăm năm, ông cũng đã tích lũy được ít nhiều kinh nghiệm, hiểu biết việc quân cơ. Các ông Đinh Điền, Nguyễn Bặc vẫn phải ngầm tín phục ông, còn các tướng lĩnh giỏi giang như Phạm Cự Lượng, Trần Công Lương đã dành cho ông rất nhiều thiện cảm. Đông đảo binh sĩ ở các cơ, các đội thường tự hào được ông chỉ huy, dìu dắt, giúp cho họ lập được nhiều chiến công. Quần chúng xa gần, nghe tiếng ông, đều rất khâm phục, mặc dù họ chưa hiểu về ông nhiều lắm.\\n\\nVà ngay cả ông cũng không tự biết gốc gác gia đình của mình. Ông chỉ biết có bà mẹ cô đơn, vất vả nuôi con trong hoàn cảnh túng thiếu nghèo nàn, cho đến khi ông được sáu tuổi, thì bà đã lìa bỏ cõi trần, Lê Hoàn được một người quen ở làng Mía, tên là Lê Đột nuôi làm con nuôi. Lê Đột cũng là một người khá giả trong làng. Ông đã được bà Đặng Thị, mẹ đẻ của Lê Hoàn gởi con trước khi bà mất: Lê Hoàn lúc đó dù còn bé bỏng, cũng nhận ra được là Lê Đột có cảm tình với mình. Một phần do lòng nhân ái, cám cảnh số phận hai mẹ con nhà nghèo, một phần vì thấy cậu bé mặt mũi khôi ngô, dễ thương, có vẻ lanh lợi. Chuyện kể rằng có một hôm cậu bé Lê Hoàn xay lúa xong thì nằm phục lên trên cối đá mà ngủ vào giữa đêm khuya. Lê Đột thức giấc vì thấy có ánh sáng tỏa ra dưới nhà bếp của mình, liền đi vào xem thì cảm thấy như có con rồng vàng đang che phủ lên người cậu bé. Ông thầm nghĩ cậu bé này có tướng lạ, sau này chắc sẽ làm nên sự nghiệp. Ông lặng lẽ giấu kín, không cho ai biết chuyện này, mà chỉ để tâm quí mến cậu bé hơn. Ông cho Lê Hoàn đi học. Cậu học rất thông minh, mau hiểu biết. Ngoài thời gian đi học cậu đi chăn trâu cắt cỏ, và được những trẻ mục đồng yêu mến. Ông càng tin rằng đứa con nuôi này nhất định sẽ có ngày thành đạt.\\nLàm con nuôi Lê Đột, Lê Hoàn nhiều lúc cũng có những băn khoăn về nguồn gốc của mình. Cha cậu là ai, ở đâu, bây giờ còn sống hay đã mất, là điều cậu không sao biết được. Cậu chỉ biết có mẹ. Mẹ cậu là bà Đặng Thị Sen người ở Kẻ Sập, sau này sách vở ghi tên là Khả Lập. Những ngày còn được mẹ nâng niu chăm sóc, Lê Hoàn còn bé quá, nên cũng không biết hỏi đến cha chú họ hàng, mãi sau này ở với Lê Đột, cũng không bao giờ được Lê Đột nhắc tới. Cậu chỉ nghe một số người trong làng nói rằng lúc mẹ đi cấy ở cánh đồng Tích Nội (đồng Trẩy), có một đóa hoa sen cứ dạt vào trước mặt bà. Bà khoát đi cố đẩy nó ra xa, nhưng nó lại dạt vào như cũ. Bà liền lấy bóc ra ăn. Không ngờ sau đó thụ thai đến 13 tháng mới sinh ra Lê Hoàn. Â\\'y là tất cả những gì mà Lê Hoàn biết được về cha mẹ mình. Thế rồi thời gian đã làm cho Lê Hoàn không quan tâm đến khả năng tìm hiểu lai lịch của người cha bí mật của mình. Cũng không phải quan tâm gì đến chuyện họ hàng làng nước. Đời ông đã hoàn toàn dành cho sự nghiệp chiến đấu và toàn tâm phụng sự vua Đinh. Con người hơn ông 16 tuổi này, đã có chiến công tung hoành ngang dọc, dẹp dược nội loạn, thu giang san về một mối, thực xứng đáng là một bậc anh hùng. Trong cuộc đánh dẹp các sứ quân, Lê Hoàn tỏ ra là người có tài nên được Đinh Bộ Lĩnh giao cho trông coi 2000 binh sĩ. Đến khi dẹp yên các sứ quân thống nhất đất nước, lập nên cơ nghiệp nhà Đinh. Lê Hoàn được phong chức Thập đạo tướng quân, Điện tiền đô chỉ huy sứ của triều đình Hoa Lư. Lúc này Lê Hoàn vừa tròn 30 tuổi.\\n\\nDo tài năng và phẩm chất của mình, lại đang mang chức vụ là Thập đạo tướng quân, Lê Hoàn được mọi người giao trách nhiệm làm nhiếp chính cho ông vua nhỏ Đinh Toàn, mới có 6 tuổi, với danh hiệu là Vệ Vương. Bà mẹ của Đinh Toàn là Dương Thị làm Hoàng thái hậu, cùng coi việc triều chính.\\n\\nLàm nhiếp chính cho một ông vua nhỏ nên Lê Hoàn phải tự mình định đoạt, giải quyết tất cả mọi vấn đề của đất nước. Ông tự xưng là phó vương, và cũng được các triều thần đồng ý. Chỉ có các ông Nguyễn Bặc, Đinh Điền, Phạm Hạp là không tán thành. Họ cho rằng Lê Hoàn đang có âm mưu cướp ngôi, nên cần phải hành động chống lại. Họ đem quân bản bộ của mình, tấn công Hoa Lư. Nhưng Lê Hoàn đã kịp thời chống lại, đốt cháy các chuyến thuyền. Tất cả ba người đều bị bắt sống, đem về hành tội.\\n\\nNghe tin Đinh Tiên Hoàng mất, Ngô Nhật Khánh dẫn quân Chiêm Thành đem hơn một nghìn chiến thuyền sang đánh nước ta. Lê Hoàn điều binh chống lại, thuyền chiến đến hai bên cửa bể Đại ác (tức Đại An, Nam Định) và Tiểu Khang (cửa Càn, Yên Mô, Ninh Bình) bị mưa bão, đều lật chìm. Ngô Nhật Khánh và quân Chiêm đều chết đuối, chỉ có thuyền vua Chiêm chạy thoát về nước. \\n\\nBấy nhiêu thắng lợi càng nâng cao uy tín của Lê Hoàn. Triều đình và dân chúng đều thấy rằng ông thực sự là con người lãnh đạo đất nước. Nhưng Lê Hoàn vẫn chưa hề nghĩ đến việc mình sẽ rắp ranh ngôi báu. Trong tình hình triều chính vô cùng rối ren Lê Hoàn thấy mình phải cố gắng hết sức để ổn định vương triều nhà Đinh. Ông thành thực phò tá ông vua nhỏ Đinh Toàn, giữ đúng phép tắc của một người bầy tôi trước vị vua nhỏ tuổi. Và bên cạnh Đinh Toàn còn có bà Dương Hậu. Bà không chính thức đóng vai trò nhiếp chính, nhưng vẫn phải lo chăm sóc cho con, bày vẽ cho con từ cách đi đứng, cách ngồi trên ngai vàng và ứng xử trò chuyện với trăm quan. Những lúc triều đình có việc, bà cũng phải lắng nghe, phải chờ đợi ý kiến Lê Hoàn và truyền đạt lại với con, để hiểu ý phó vương cho rõ. Trước đây, hồi Đinh Tiên Hoàng còn sống, thỉnh thoảng bà cũng có gặp Lê Hoàn vài phút thoáng qua còn bây giờ thì gần như lúc nào, bà cũng phải trò chuyện, hỏi han vị thập đạo tướng quân, lúc con bà lâm triều, cũng như lúc ra vào cung nội. \\n\\nDương Hậu hãy còn trẻ lắm. Không rõ tên thật của bà là gì (sau này nhiều tài liệu viết bà là Dương Vân Nga, lâu ngày thành quen, chứ thực ra sử sách không ghi chính thức). Bà thuộc dòng dõi của Dương Diên Nghệ, là con gái của Dương Tam Kha, về làm vợ Đinh Tiên Hoàng, cùng với 4 bà khác đều được phong là Hoàng hậu. Những buổi gặp gỡ thân tình với vị thập đạo tướng quân oai phong, đường bệ, luôn luôn làm cho Dương Hậu xao xuyến một niềm riêng. Con người tài năng và anh hùng như thế, sao lại không thể là một chỗ dựa cho mình. Đứa con ta hiện nay đang được người chăm sóc, và bản thân ta cũng thấy người đối xử một cách khác thường. Những lời tâu thái hậu trịnh trọng, nhưng lại rất dịu dàng, hình như trong đó chứa đựng một chút gì kín đáo. Nhưng nếu... thì có gây ra những điều dị nghị gì không... Dương Hậu băn khoăn, nhưng bà cũng không dám nghĩ xa hơn nữa. Phải cố nén lòng, và hãy cùng Lê Hoàn giúp Đinh Toàn làm quen với công việc của một ông vua. Về phía Lê Hoàn, ông cũng nhận ra được cảm tình của Dương Hậu, nhưng ông vẫn luôn luôn giữ đúng tư cách của mình. Dù sao đi nữa, thì bây giờ đây, mình còn ở địa vị một kẻ bề tôi.\\nCòn rồi đây? Lê Hoàn cũng không dám nghĩ xa hơn nữa....\\nGiữa lúc ấy thì ở phương Bắc, nhà Tống lại rắp tâm thôn tính phương Nam. Tin hai cha con Đinh Tiên Hoàng và Đinh Liễn bị giết hại, khiến cho Triều đình nhà Tống nghĩ đến cơ hội thuận lợi để tiến hành một cuộc chiến tranh xâm lược. \\nGiờ chiến tranh đã điểm. Vua Tống lại sai Lư Đa Tốn viết thư cho Lê Hoàn, vừa chiếu dụ vừa đe dọa. Lá thư này do một nhà văn đời Tống là Vương Vũ Xứng thảo, có đoạn dùng lời rất quyết liệt, bảo Lê Hoàn: \"Người nên qui phục, chớ để vạ đến. Quân lính nhà vua đã chỉnh tề, trống chiêng nghiêm ngặt, theo ta thì ta tha, trái ta thì ta đánh. Chỉ có theo hay chống là lành hay dữ, người nên xét kỹ\".\\n\\nTrước tình thế vô cùng nghiêm trọng ấy, cả triều đình đều vô cùng lo ngại. Tiếp theo là văn thư các cấp từ Lạng Châu (Bắc Giang, Lạng Sơn) gửi về, các quan văn võ bàn ra nói vào, kẻ bảo nên đánh, kẻ nghĩ nên hàng, chưa biết quyết định ra sao. Còn ông vua nhỏ Đinh Toàn cố nhiên không biết nói năng gì, chỉ biết trông chờ vào mẹ. Dương Hậu quay lại nói với Lê Hoàn: Tình thế bức bách như vậy, tướng quân định liệu ra sao?\\nLê Hoàn thản nhiên đáp:\\n- Xin Thái hậu, đừng quá bận tâm mà ảnh hưởng đến ngọc thể. Tôi đã được giao việc phò vua giúp nước, xin hết lòng hết sức không ngại khó khăn.\\nTrước thái độ đường hoàng và lập trường kiên quyết của Lê Hoàn, Dương Hậu thấy yên tâm giảm bớt điều lo lắng. Bà ân cần nói với vị tướng đầy tin tưởng:\\n- Đã vậy, ta thiết nghĩ tướng quân nên ra hiểu dụ ba quân, và nếu binh đội của ta chưa đủ, thì nên kịp thời cho tuyển thêm dũng sĩ trong các lộ, các châu về luyện tập, chờ ngày giao chiến với địch.\\n\\nLê Hoàn mời ngay Đinh Toàn và Dương Hậu ngự triều. Ông trình bày cho các quan văn võ nhận rõ trách nhiệm phải bảo vệ đất nước, giữ gìn cơ nghiệp. Ông cũng phân tích lợi hại giữa hai bên quân Tống và quân ta, chỉ ra rằng chúng ta chắc chắn có thể giành được thắng lợi. Ông giơ tay, dõng dạc:\\n- Mai ngày quân địch kéo sang, tôi xin tự thân mình đốc suất việc phòng bị và chống cự, song rất cần có những đại tướng giúp đỡ trong việc dùng binh. Xin được cử ông Phạm Cự Lượng làm đại tướng quân, đi tiền phong trong cuộc giao chiến.\\nNghe Lê Hoàn tiến cử Phạm Cự Lượng, triều đình ai cũng ngạc nhiên. Phạm Cự Lượng là em Phạm Hạp, người đã cùng Nguyên Bặc, Đinh Điền khởi binh chống lại Lê Hoàn, bị Lê Hoàn đánh bại, bắt giam và xử tử. Biết đâu Phạm Cự Lượng không nung nấu một mối thù không đội trời chung với người đã chặt đứt tình anh em ruột thịt của mình. Nhưng rồi họ nghĩ lại. Quả thực Lê Hoàn là con người đại lượng, không có sự tị hiềm, biết tin tưởng vào phẩm chất người giúp việc mình. Trước tình hình gay go của đất nước, vấn đề thiết yếu nhất là phải chọn được đúng người có khả năng. Phạm Cự Lượng là đại tướng thì phải giao trách nhiệm cho xứng đáng. Dù là anh em, người nào, có chí hướng riêng của người nấy, không nên vì tội của anh, mà có thành kiến nghi ngờ với em. Lê Hoàn đã làm đúng như thế. Cả triều đình rất khâm phục ông, còn Phạm Cự Lượng lại càng kính trọng ông bội phần.\\nThế rồi ngay lúc đó, Phạm Cự Lượng bước ra, tuyên bố cùng các võ tướng, các binh sĩ đang tề tựu đông đủ:\\n- Tôi xin có lời để ba quân cùng hay? Thưởng người có công, giết kẻ vi mệnh, đấy là phép hành binh. Nay chúa thượng ấu thơ, chúng ta tuy hết sức liều chết chống giặc ngoại xâm, may mà có chút công lao thì ai biết đến cho? Chi bằng trước hết ta hãy tôn quan thập đạo tướng quân lên làm Thiên tử, rồi sau sẽ phát binh cũng không muộn.\\nTiếng ông Phạm dứt lời, tất cả các võ tướng, quân sĩ đều náo nức tung hô: Vạn tuế! Vạn tuế? Các quan văn võ trong triều ngơ ngác một phút, rồi cũng đều tung hô theo. Lê Hoàn chắc cũng xúc động bởi giây phút này, nhưng ông vẫn cảm thấy bất ngờ. Lần đầu tiên, chàng thanh niên dù đã từng trải cuộc đời mà vẫn cảm thấy lúng túng. Ông nhìn lên ngai vàng, chỗ của Đinh Toàn đang ngồi, rồi liếc sang chiếc ghế của Dương Hậu. Bà Dương cũng lúng túng một phút. Một niềm vui dâng lên trong tâm trí, bà cảm thấy như quân sĩ và trăm quan đã cởi được cho bà một sự bế tắc ấp ủ lâu nay. Thoáng nhận ra nguy tình thế, hợp với lòng mình, bà tán thành ý kiến suy tôn của mọi người. Đúng, họ nghĩ như vậy là phải. Đứa con ta tuy được nối ngôi, nhưng còn quá bé bỏng, không thể đảm đương được quốc gia Đại sự. Lê Hoàn mới là người xứng đáng ngự trị ngai vàng. Có Lê Hoàn, mới giữ vững đất nước trước họa xâm lăng. Có Lê Hoàn, binh sĩ mới giữ vững được niềm tin. Không nên cứ khư khư theo một xu hướng ích kỷ hẹp hòi, để giữ tiếng cho nhà Đinh ở ngôi hư vị. Và nếu Lê Hoàn trở thành thiên tử, địa vị của chàng khác đi, quan hệ giữa chàng với ta cũng sẽ là thuận lợi. Nghĩ đến điều này, Dương Hậu cảm thấy có chút ngượng ngùng bẽn lẽn. Nhưng bà trấn tĩnh được ngay. Bà giơ tay ra hiệu cho một người cung nữ. Cô này hiểu ngay ý của bà, vội vàng chạy vào lấy chiếc áo long bào đem ra. Dương Hậu nói nhỏ với Đinh Toàn rồi quay lại, bước tới gần Lê Hoàn, khoác chiếc áo long bào lên vai ông: \\nLòng quan quân đã quyết. Kính xin chàng (tiếng chàng, Dương Hậu nói rất khẽ) chính vị ngôi tôn!\\nQuả nhiên, sự tính toán của Lê Hoàn là hoàn toàn chính xác. Quân Tống thất bại thảm hại, không chờ lệnh vua đã phải vội vàng rút chạy. Vua Tống trút tất cả tội lỗi lên đầu bọn tướng tá: Lưu Trừng, Giả Thực bị giết ở chợ Ung Châu. Tôn Toàn Hưng bị bắt về triều hạ ngục rồi cũng bị giết. Cuộc kháng chống Tống của nhân dân ta, dưới sự lãnh đạo của Lê Hoàn đã hoàn toàn thắng lợi.\\n\\nMặc dầu đã lên ngôi vua, và cũng đã bước sang giai đoạn tứ tuần, Lê Hoàn phải mang mũ áo: hoàng bào, long cổn, phải giữ một vẻ bề ngoài trịnh trọng như những con người đứng tuổi, nhưng phong thái của con người thanh niên trong ông, vẫn giữ nguyên giá trị. Ông luôn luôn tỏ ra linh hoạt, vui vẻ hòa mình với mọi người. Ông ứng phó nhanh nhẹn, lúc nào cũng sôi nổi và hào hứng. Ngay cả khi bước vào những nghi lễ ngoại giao, thù tiếp với các sứ giả nước ngoài, ông vẫn giữ tư thế ngang tàng, đôi khi cũng không cần giữ gìn tiểu tiết.\\n\\nKhông những quí trọng lớp trí thức là những nhà sư, Lê Hoàn cũng có con mắt biệt đãi đối với những con người tài năng khác, kể cả những người nước ngoài, không có tư tưởng kỳ thị. \\n\\nÔng vẫn đóng đô ở Hoa Lư như vua Đinh trước kia. Ông cho xây dựng nhiều cung thất. Tất nhiên việc xây dựng này đã phải chi phí rất nhiều tiền của, có phần xa xỉ, nhưng mặt khác cũng phải thấy là Lê Hoàn rất muốn cho kinh đô và cho nơi vua ở, phải được bề thế, trang trọng, khiến cho nhân dân và khách nước ngoài phải trầm trồ, thán phục, do đó mà tôn vinh uy thế của vương triều ông. Điều đặc biệt là Lê Hoàn rất chú trọng đến việc giữ gìn và phát huy bản sắc văn hóa dân tộc. Bởi vì ông từ nhân dân mà ra, ông đã cố gắng giữ gìn lấy những khuynh hướng tâm linh, khuynh hướng thẩm mỹ mà người nước Việt bảo lưu sâu sắc. Ông là một trong những nhà vua đầu tiên, lấy lễ để thờ Phù Đổng thiên vương, muốn bắt chước truyền thuyết các vua Hùng Vương đề cao anh hùng dân tộc.\\n\\nKhông có một tài liệu nào viết một cách rõ ràng và cụ thể về đời sống tình duyên của Lê Hoàn như thế nào. Ta chỉ biết Lê Hoàn cũng như vua Đinh, có rất nhiều vợ, đều được phong làm Hoàng hậu, trong đó có bà Đại Thắng Minh Hoàng hậu, tức là Dương Hậu, vợ cũ của Đinh Bộ Lĩnh. Vua Đinh mất, Dương Hậu có cảm tình với Lê Hoàn, đã khoác áo hoàng bào lên vai ông để dựng vương triều nhà Lê.\\n\\nNăm Ất Tị (1005) vua Lê Hoàn mất thọ 65 tuổi, làm vua được 24 năm.',\n",
              "  'ir_score': 0.03191278067385512,\n",
              "  'overlap_key_words': 10},\n",
              " {'answer': '1800',\n",
              "  'bert_score': 0.6861363386236599,\n",
              "  'content': 'Nguyễn Quang Toản (sinh Qúi Mão 1783- mất Nhâm Tuất 1802)\\n\\nCảnh Thịnh Hoàng đế (Thời gian ở ngôi 1793-1802)\\n\\nQuang Trung mất ở tuổi 39, khi các con còn nhỏ. Quang Toản là con trưởng mà cũng mới lên 10. Sinh thời, Quang Trung đã lập Quang Toản lên Thái tử. Sự lựa chọn này có lẽ là chính xác. Trước khi mất, Quang Trung đã nhận xét về Thái tử như sau:\\n\\n- Thái tử là người có tư chất, nhưng tuổi hãy còn nhỏ.\\n\\nNăm Quí Sửu (1793) Quang Toản chính thức lên ngôi vua, lấy niên hiệu là Cảnh Thịnh, sai Ngô Thì Nhậm sang nhà Thanh báo tang và xin sắc phong. Vua Thanh vốn đã sắc phong cho Quang Toản làm Thái tử khi vua Quang Trung còn sống nên lập tức xuống chỉ phong Toản làm An Nam Quốc vương. Án sát Quảng Tây được lệnh làm sứ thần đến Bắc Thành, Quang Toản cũng sai người đóng giả nhận thay. Sứ thần nhà Thanh có biết việc ấy song không có phản ứng gì.\\n\\nQuang Toản lên ngôi vua, vẫn để hai em là Quang Thùy và Quang Bàn giữ tước vị cũ, dùng cậu là Bùi Đắc Tuyên làm Thái sư Giám quốc trông coi mọi việc trong ngoài; Thái úy Phạm Công Hưng giữ việc quân; Trung thủ phụng chính Trần Văn Kỷ làm ở Trung thư cơ mật và Trần Quang Diệu giữ việc văn thư lệnh thị.\\n\\nQuang Toản tuổi còn nhỏ, mọi việc đều quyết định bởi Bùi Đắc Tuyên. Từ đó Đắc Tuyên ngày càng chuyên quyền, trong ngoài đều oán. Đại thần trong triều ngoài trấn nghi kỵ lẫn nhau, Quang Toản không ngăn chặn nổi đành chỉ khóc lóc mà thôi. Giữa lúc đó lại có cận thần gièm pha rằng, oai quyền của Trần Quang Diệu quá lớn, mưu đồ cướp ngôi… Quang Toản tin là thật, liền rút hết binh quyền của Trần Quang Diệu. Trần Quang Diệu gửi mật thư vào Quy Nhơn hẹn với Lê Văn Trung đem quân ra phế hạ Quang Toản, lập Quang Thiệu lên ngôi.\\n\\nViệc không thành, Quang Thiệu bị giết, Lê Văn Trung bị chém. Con rể Lê Văn Trung là Lê Chất sợ hãi, bỏ Tây Sơn sang hàng Nguyễn Ánh. Về sau Lê Chất đem quân của Nguyễn Ánh ra đánh thắng Tây Sơn bị thu hết quân trang, quân dụng.\\n\\nNăm Canh Thân (1800) Nguyễn Ánh vượt biển ra đánh thành Quy Nhơn, tướng Tây Sơn là Vũ Tuấn đầu hàng. Nguyễn Ánh chiếm thành Quy Nhơn, đổi là trấn Bình Định. Giao Võ Tánh và Ngô Tòng Chu giữ thành. Quân Tây Sơn bao vây nhiều tháng mà không hạ được vì Võ Tánh và Ngô Tòng Chu liều chết giữ thành.\\n\\nNăm Tân Dậu (1801) Nguyễn Ánh ra đánh Phú Xuân. Quang Toản dốc sức chống giữ không nổi, Phú Xuân bị chiếm, Quang Toản phải chạy ra Bắc Hà, đổi niên hiệu là Bảo Hưng. Tháng 8 năm đó, Quang Toản đem quân bốn trấn Hải Dương, Sơn Tây, Sơn Nam, Kinh Bắc và quân Thanh Nghệ vào đánh Nguyễn Ánh lại thua, vội rút về Thăng Long.\\n\\nNgày 16 tháng 6 năm Nhâm Tuất (1802) Nguyễn Ánh ra đánh Thăng Long, khí thế rất mạnh, Quang Toản cùng hai em bỏ thành chạy theo hướng Bắc, bị thổ hào Kinh Bắc bắt được, đóng cũi đưa về Thăng Long. Quân Tây Sơn đến đây hoàn toàn tan rã.\\n\\nMùa đông năm 1802, Nguyễn Ánh về Phú Xuân cáo tế miếu, trả thù Tây Sơn cực kỳ tàn bạo và hèn hạ, Quang Toản và những người thân bị hành hình… Ấp Tây Sơn đổi thành ấp An Tây, mọi dấu ấn Tây Sơn đều bị họ Nguyễn xóa sạch.\\n\\nQuang Toản lên ngôi vua năm 1793, đến năm 1802 thì mất, ở ngôi 10 năm, chết ở tuổi 20. Triều Tây Sơn kể từ vua Thái Đức đến hết Cảnh Thịnh (1778-1802) tồn tại được 25 năm. Cụ thể:\\n\\n1. Thái đức Hoàng đế Nguyễn Nhạc (1778-1793)\\n\\n2. Quang Trung Nguyễn Huệ (1789-1792)\\n\\n3. Cảnh Thịnh Hoàng đế (1793-1802).',\n",
              "  'ir_score': 0.043774491340256044,\n",
              "  'overlap_key_words': 8},\n",
              " {'answer': '1179',\n",
              "  'bert_score': 0.9278266155726695,\n",
              "  'content': 'Tô Hiến Thành (…Ất Hợi 1179)\\n\\nDanh thần, danh sĩ nổi tiếng đời Lý Anh tông, ông tài kiêm văn võ, có công bình định xứ sở, phá tan giặc Ngưu Hống, đánh đuổi quân ngoại xâm (Ai Lao gây hấn). Do đó được ông phong làm Thái úy.\\n\\nÔng lại hết lòng sửa sang việc chính trị, mở mang văn hóa, đề xuất việc lập đền thờ Khổng tử ở cửa Nam thành Thăng Long. Sau ông làm đến Thái phó trong triều.\\n\\nNăm Ất Mùi 1175, khi Lý Anh tông sắp mất, gủi Thái tử Long Cán cho ông giúp đỡ. Ông nhận lời. Bà Thiên Linh thái hậu muốn lập con bà là Long Xưởng lên làm vua, đem một mâm vàng hối lộ ông, bị ông cương quyết từ chối. Ông vâng di chiếu, lập Long Cán nối ngôi, tức Cao tông, tận tụy phò tá tân quân. Từ đó tình hình trong nước càng yên ổn.\\n\\nNăm Kỉ Hợi 1179, ông mất. Khi ông bệnh nặng, có Tham chi chính sự là Võ Tán Đường ngày đêm săn sóc ông. Đỗ thái hậu cùng vua đến thăm, hỏi ông về người có thể thay thế ông. Ông tiến cử Gián nghị đại phu Trần Trung Tá, khiến Đỗ thái hậu ngạc nhiên.:\\n\\n- Sao ông không tiến cử Võ Tán Đường?\\n\\nÔng đáp:\\n\\n- Nếu cần người hầu hạ, thì dùng Võ Tán Đường, trị nước an dân thì phải dùng Trần Trung Tá.\\n\\nĐời sau sánh ông với Võ Hầu Gia Cát Lượng.\\n\\nÔng là tác giả một số sách nhưng nay đã thất lạc',\n",
              "  'ir_score': 0.03746404223232718,\n",
              "  'overlap_key_words': 8},\n",
              " {'answer': '965',\n",
              "  'bert_score': 0.6594619254665324,\n",
              "  'content': 'Đinh Bộ Lĩnh (Ất Dậu 925 – Kĩ Mão 979).\\n\\ntổ nhà Đinh, ông vốn họ Đinh, tên Hoàng, Bộ Lĩnh là tước quan của sứ quân Trần Lâm phong cho, quê ở động Hoa Lư, châu Đại Hoàng (nay là huyện Gia Viễn, tỉnh Ninh Bình), con quan Thứ sử Châu Hoan (Nghệ An) về đời Dương Diên Nghệ là Đinh Công Trứ.\\n\\nCha mất sớm, ông theo mẹ là Đàm thị về quê, nương thân với chú ruột là Đinh Dự, ở chăn trâu. Thường nhóm họp bạn bè lấy lau làm cờ, lập trận đánh nhau, ông tỏ ra có tài chỉ huy. Kết bạn rất thân với Đinh Điền, Nguyễn Bặc, Lưu Cơ và Trịnh Tú. Bị người chú ghét đuổi đi, ông sang đầu quân trong đạo binh của sứ quân Trần Lâm ở Bố hải Khẩu. Ít lâu, được Trần Lâm mến tài gả con cho, ông càng vững bước trên đường sự nghiệp. Không bao lâu, Trần Lâm mất, ông đem quân về giữ Hoa Lư, chiêu mộ hào kiệt, hùng cứ một phương, chống nhà Ngô và các sứ quân khác.\\n\\nNăm Ất Sửu 965 Nam Tấn vương Xương Văn mất, con là Xương Xí nối nghiệp, quá suy yếu phải về đóng giữ đất Bình Kiều (thuộc Hưng Yên). Ông thừa thế hưng binh đánh lớn, chỉ trong một năm dẹp yên được các sứ quân. Được xưng tụng là Vạn Thắng vương. Năm Mậu Thìn 968 ông lên ngôi vua, tôn hiệu là Đại Thắng Minh, đặt hiệu nước là Đại Cồ Việt, đóng đô ở Hoa Lư. Năm Canh ngọ 970, bắt đầu đặt hiệu năm là Thái Bình. Ông truyền cho đúc tiền đồng là tiền tệ xưa nhất ở nước ta, gọi là tiền đồng “Thái Bình”. Ông có công lớn trong việc thống nhất đất nước nhưng về chính trị trong nước lại có phần thiên về sử dụng hình phạt nghiêm khắc. Năm Quí Dậu 973 ông sai con là Nam Việt vương Liễn sang cống nhà Tống, được nhà Tống phong ông làm Giao Chỉ Quận vương.\\n\\nĐến năm Kỉ Mão 979, ông và con lớn là Đinh Liễn bị tên hầu cận là Đỗ Thích ám sát chết. Ở ngôi 12 năm (968-979), thọ 56 tuổi, táng ở núi Mã Yên, xã Trường An thượng, huyện Gia Liễn, tỉnh Ninh Bình, đền thờ ông cũng xây dựng gần đấy.\\n\\nCon thứ của ông là Đinh Tuệ nối ngôi, chỉ non một năm thì bị Lê Hoàn lật đổ, cơ nghiệp nhà Đinh dứt.',\n",
              "  'ir_score': 0.03697091456109665,\n",
              "  'overlap_key_words': 8},\n",
              " {'answer': '1809 – Giáp Dần 1854)',\n",
              "  'bert_score': 0.47129934386010874,\n",
              "  'content': 'Cao Bá Quát (Kỉ Tị 1809 – Giáp Dần 1854)\\n\\nDanh sĩ thời Tự Đức, tự Chu Thần, hiệu Cúc Đường, biệt hiệu Mẫn Hiên, quê làng Phú Thị, huyện Gia Lâm, tỉnh Bắc Ninh (nay thuộc xã Quyết Chiến, huyện Gia Lâm, ngoại thành Hà Nội).\\n\\nÔng là em sinh đôi với Cao Bá Đạt, nổi tiếng văn chương đương thời, tổ xa đời là Cao Bá Hiên làm đến Thượng thư bộ Binh đời hậu Lê, cha là Cao Cửu Chiếu, cũng là bậc tài danh đương thời.\\n\\nNăm Tân Mão 1831, ông 22 tuổi, đậu Á nguyên trường thi Hà Nội. Nhưng thi Hội 2 phen đều bị đánh hỏng, ông buồn không thi cử nữa, ngao du non nước. Năm Tân Sửu 1841, quan đầu tỉnh Bắc Ninh để cử ông với triều đình, ông được triệu vào kinh sung chức Hành tẩu bộ Lễ. Ít lâu, được cử chấm thi ở trường Hương Thừa Thiên, ông và bạn đồng sự là Phan Nhạ dùng khói đèn chữa một ít quyển văn hay mà phạm húy, toan cứu vớt người tài. Việc bị phát giác. Giám sát trường thi là Hồ Trọng Tuấn đàn hặc, ông bị kết vào tội chết. Nhưng vua Thiệu Trị giảm tội cho ông, chỉ cách chức và phát phối vào Đà Nẵng.\\n\\nGặp khi có sứ bộ Đào Trí Phú sang Tân Gia Ba công cán, ông được tha cho rời khỏi phối sở, theo sứ bộ đi lập công chuộc tội. Xong việc trở về, ông được phục chức cũ, rồi thăng làm chủ sự.\\n\\nNăm giáp dần 1854, ông phải đổi lên Sơn Tây, làm Giáo thọ ở phủ Quốc Oai. Ông buồn chán, phẩn chí bỏ quan theo làm quân sư cho Lê Duy Cự chống lại triều đình. Việc khởi nghĩa ở Mĩ Lương thất bại, ông bị bắt rồi bị hành quyết cùng với hai con là Cao Bá Phùng và Cao Bá Phong năm ông 45 tuổi. Anh ông là Bá Đạt cũng bị liên lụy.\\n\\nÔng còn để lại cho đời bộ sách Chu Thần thi tập. Thơ văn ông dù bằng chữ Hán hoặc quốc âm đều hay và có giá trị nghệ thuật. Những bài ca trù của ông rất xuất sắc. Đặc biệt bài phú Tài tử đa cùng, chỉ riêng một bài này thôi cũng đủ nêu cao tên tuổi ông đối với văn học nước nhà.\\n\\nKhi ông mất mới 45 tuổi, bạn ông là Phương Đình Nguyễn Văn Siêu có bài thơ truy điệu ông rất thâm trầm: ',\n",
              "  'ir_score': 0.03253787497944039,\n",
              "  'overlap_key_words': 7},\n",
              " {'answer': '1819',\n",
              "  'bert_score': 0.9574001974534534,\n",
              "  'content': 'Gia Long Hoàng đế (1802-1819)\\n\\nÔng chính tên là Nguyễn Phước Ánh, sinh nǎm 1762 con ông Nguyễn Phước Luân và bà Nguyễn Thị Hoàn, cháu nội của Võ vương Nguyễn Phước Khoát. Cha bị hãm hại, ông ở với chúa Định Vương Nguyễn Phước Thuần từ khi 4 tuổi. Cơ nghiệp họ Nguyễn suy sụp, Thuận Hóa bị mất, chúa tôi chạy vào Gia Định, lại bị Tây Sơn giết, cả Nguyễn Phước Thuần và Nguyễn Phước Dương. Nguyễn Phước Ánh trốn ra đảo Thổ Chu, mưu đồ khôi phục, dù lúc ấy ông còn rất ít tuổi. Đến nǎm 1779, ông mới 17 tuổi, được thu hạ tôn làm Đại nguyên súy. Nǎm 1780 xưng vương ( 18 tuổi) vẫn theo niên hiệu nhà Lê, dốc sức để cự lại với Tây Sơn. Nhưng liên tiếp bị thất bại. Hai lần chạy trốn ra đảo Phú Quốc, một lần chạy sang Xiêm, có khi bơ vơ trên biển, thiếu thốn đủ đường, nhưng nhờ chí kiên trì mà cuối cùng được thắng lợi. Nǎm 1802 Nguyễn Phước Ánh lên ngôi hoàng đế lấy niên hiệu là Gia Long.\\n\\nKhi lên ngôi vua, Gia Long kịp thời đặt quan hệ ngoại giao, xin cầu phong với nhà Thanh, liên hệ với Xiêm La, Châu Lạp, đều có kết quả thỏa đáng, được các nước láng giềng ủng hộ. Ông đặt tên nước là Nam Việt. Nhà Thanh cho rằng tên nước là Nam Việt sẽ lẫn với nước của Triệu Đà ngày xưa nên đổi là Việt Nam. Nhà vua chú trọng việc định pháp luật, nǎm 1815 bộ \"Quốc triều hình luật\" gồm 398 điều đặc trưng được ban hành. Các việc tài chính, thuế khóa, tiền tệ, đo lường, giao thông đê điều vv... đều được quan tâm và đưa vào nề nếp. Ông cho thành lập các thành, các trấn (có nội trấn và ngoại trấn) lập sở địa bạ, đặt lục bộ, tam tào, bỏ các ngôi vịnh hoàng hậu, tể tướng, trạng nguyên. Gia Long còn có ý thức chấn hưng vǎn hóa, phát huy truyền thống, nhằm khẳng định thế lực, danh tiếng của vương triều. Từ 1801, Gia Long đã ra lệnh soạn các bộ sử Cương mục, Chính biên, Tiền liên. Nǎm 1810, Lê Quang Định đã làm xong sách: Nhất thống địa dư chí. Ông cùng cho lập Vǎn Miếu, mở khoa thi hương, nhưng chưa cho thi hội.\\n\\nTừ thế kỷ l 7, các chúa Trịnh, Nguyễn ở Đàng ngoài , Đàng trong đều đã sử dụng giáo sĩ và thương nhân nước ngoài để mua vũ khí, khai thác các khả nǎng, nhằm tǎng cường thế lực của mình. Nhưng chỉ Nguyễn Phước Ánh mới chính thức đi tìm ngoại viện. Ông đã cầu viện quân Xiêm, nhưng chẳng đi đến đâu, vì quân Xiêm sợ quân Tây Sơn như sợ cọp. Cả quân Xiêm và quân Nguyễn Ánh, đã bị Nguyễn Huệ đánh cho tan tác bằng chiến thắng Rạch Gầm, Xoài Mút (1785).\\n\\nGia Long còn nhờ cổ đạo Bá Đa Lộc, mong cầu cứu Pháp, cho cả con là hoàng tử Canh sang Pháp làm con tin, ký hiệp ước ngày 28- 11 -1787, nhưng nước Pháp lại không quan tâm nên hiệp ước này không thực hiện được.\\n\\nQuản lý một nước Việt Nam thống nhất từ Bắc chí Nam, Gia Long đã chia cả nước làm 23 trấn, 4 doanh. Từ Ninh Bình trở ra gọi là Bắc Thành gồm 11 trấn (5 nội trấn và 6 ngoại trấn); từ Bình Thuận trở vào gọi là Gia Định thành gồm 5 trấn. ở quãng giữa là các trấn độc lập: Thanh Hóa, Nghệ An, Quảng Ngãi, Bình Định, Phú Yên, Bình Hòa, Bình Thuận. Đất kinh kì đặt 4 doanh: Quảng Đức doanh (tức Thừa Thiên), Quảng Trị doanh Quảng Bình doanh và Quảng Nam doanh. Để tránh lộng quyền ngay từ đầu nhà vua đã bãi bỏ chức vụ Tể tướng. ở triều đình chỉ đặt ra 6 bộ: Lại, Hộ, Lễ, Binh, Hình, Công do các thượng thư đứng đầu và Tả hữu tham trí, Tả hữu thị lang giúp việc. ở trong cung thì không lập ngôi Hoàng hậu, chỉ có Hoàng phi và các cung tần.\\n\\nCông cuộc khai hoang vùng đồng bằng sông Cửu Long được tiếp tục. Thời Gia Long khối lượng đê, kè, cống được đắp nhiều nhất so với các triều trước. Về đối ngoại, Gia Long đã tranh thủ sự ủng hộ và giữ lễ thần phục nhà Thanh, đồng thời giữ mối quan hệ với Chân Lạp và Ai Lao.\\n\\nCũng như nhiều vua chúa khác Gia Long đã đối xử không tốt với các công thần. Sau khi lên ngôi Gia Long đã giết hại vị công thần bậc nhất của triều Nguyễn lúc đó là Nguyễn Vǎn Thành. Còn một điểm nữa cũng gây nhiều tai tiếng đó là việc Gia Long đã tìm cách trả thù đối phương của mình một cách man rợ. Có thể ví nhà Tây Sơn đã phá tan cơ nghiệp của dòng họ Nguyễn. Có thể cũng vì phải trốn Tây Sơn mà Gia Long đã phải chịu đựng quá nhiều đắng cay nhục nhã, cho nên đến khi lên ngôi Gia Long đã thẳng tay trả thù. Gia Long tuyên bố: \"Trẫm vì chín đời mà trả thù\". Trả thù kẻ địch và tôn vinh lại những người đã khuất trong dòng họ Nguyễn. Nhưng sự tàn bạo và nhỏ nhen của Gia Long đã không thuyết phục được ai, mà lại biến ông thành kẻ tầm thường, không xứng đáng với một ông vua sáng lập ra triều đại nhà Nguyễn.\\n\\nNgày Đinh Mùi tháng 12 nǎm Kỷ Mão (1819) Gia Long mất, thọ 59 tuổi ở ngôi chúa 25 nǎm, làm vua trong 18 nǎm.',\n",
              "  'ir_score': 0.022785176503311688,\n",
              "  'overlap_key_words': 7},\n",
              " {'answer': '930-931',\n",
              "  'bert_score': 0.5402327373565231,\n",
              "  'content': 'Ngô Quyền(Kỉ Dậu 899-Giáp Thìn 944)\\n\\nNgô Quyền (Kỉ Dậu 899-Giáp Thìn 944)\\n\\nDanh tướng, người dựng lên nghiệp nhà Ngô, quê ở Đường Lâm, huyện Phúc Lộc, châu Giao (nay thuộc tỉnh Hoà Bình. Cha là Ngô Môn, vốn là Châu mục, châu Đường Lâm trong thời họ Khúc dấy nghiệp.\\n\\nÔng là vị tướng tài, được chủ tướng là Dương Diên Nghệ gả con gái là Dương Thị Như Ngọc cho. Ông cùng cha vợ đánh bại quân Nam Hán xâm lược lần thứ nhất(930-931), rồi được cha vợ uỷ quyền trông coi chấu Ái (Thanh Hoá).\\n\\nNăm Đinh Dậu 937, Kiều Công Tiễn phản bội, giết chết Dương Diên Nghệ, rồi cấu kết với quân Nam Hán. Ông dấy binh giết được Công Tiễn, dẹp tan quân Nam Hán do Hoằng Thao kéo sang xâm lược lần thứ hai trên sông Bạch Đằng.\\n\\nNăm Kỉ Hợi 939, ông xưng vương, mở nền độc lập tự chủ cho dân nước, đến Giáp Thìn 944, ông mất hưởng dương 45 tuổi, trị nước được 5 năm. Sau khi ông mất, anh vợ là Dương Tam Kha phụ lời uỷ thác của ông, cướp quyền con ông là Ngô Xương Văn, gây nội biến.',\n",
              "  'ir_score': 0.02538629847531874,\n",
              "  'overlap_key_words': 4},\n",
              " {'answer': '1009',\n",
              "  'bert_score': 0.43927030454342214,\n",
              "  'content': 'Lý Công Uẩn – Lý Thái Tổ (Giáp Tuất 974 – Mậu Thìn 1028)\\n\\nLý Công Uẩn (Giáp Tuất 974 – Mậu Thìn 1028).\\n\\nVua nhà Lý, người châu Cổ Pháp, lộ Bắc Giang, sinh ngày 12-2 năm Giáp Tuất (8-3-974). Ông là vua khai sáng nhà Lý tức Lý Thái tổ, lên ngôi lúc 35 tuổi.\\n\\nThân mẫu ông họ Phạm, năm lên 3 tuổi ông làm con nuôi sư Lý Khánh Vân, đến tuổi trưởng thành ông thông minh, có tài văn võ. Làm quan nhà tiền Lê đến chức Tả thân vệ điện tiền chỉ huy sứ.\\n\\nNhà Tiền Lê suy vi vì Lê Ngọa Triều bạo ngược, triều thần là Đào Cam Mộc ngầm mưu với sư Nguyễn Vạn Hạnh thường khuyên ông hãy sẵn sàng lật đổ nhà Lê. Đến năm Kỉ Dậu 1009, Lê Ngọa Triều mất, ông cùng Hữu điện tiền chỉ huy sứ là Nguyễn Đề đem 500 quân Tùy Long vào cung canh giữ. Nhân thời cơ, Đào Cam Mộc giục ông hành động. Cuộc “đảo chính” thành công chớp nhoáng.\\n\\nÔng lên ngôi vua sáng lập nghiệp Lý, dời đô ra thành Đại La (sau đổi thành Thăng Long – Hà Nội). Ông sửa sang chính trị, trọng dụng Đào Cam Mộc, gả em gái là An Quốc cho, phong tước Nghĩa Tín hầu. Mặt khác, ông cũng trọng đãi tăng sĩ, chú trọng việc đúc tượng xây chùa, thời kỳ này xem đạo Phật như là Quốc giáo.\\n\\nNgày 3-3 Mậu Thìn (31-3-1028) ông mất hưởng dương 54 tuổi, ở ngôi 19 năm, hiệu là Thuận Thiên.',\n",
              "  'ir_score': 0.011789424763831031,\n",
              "  'overlap_key_words': 4},\n",
              " {'answer': '1516',\n",
              "  'bert_score': 0.8587199056493843,\n",
              "  'content': 'Mạc Đăng Dung (Mạc Thái Tổ) (Quí Mão 1483 – Tân Sửu 1541)\\n\\nDanh thần nhà Lê, vua đầu nhà Mạc, sau cướp quyền vua dựng ra nhà Mạc. Ông là con của Mạc Hịch và Đặng Thị Hiếu, quê làng Cổ Trai, huyện Nghi Dương, ngụ ở làng Cao Dôi, huyện Bình Hà, tỉnh Hải Dương.\\n\\nÔng vốn dòng dõi Trạng nguyên Mạc Đĩnh Chi đời Trần. Thưở trẻ ông theo học với người thầy họ Lê, được thầy thương mến gả con gái cho. Nhà nghèo, nhưng ông có sức khỏe, có chí lớn, thường đi đánh vật, thi lấy giải về sống qua ngày và làm nghề đánh cá mưu sinh.\\n\\nNăm Bính Tí 1516, đời Lê Chiêu tông, ông thi võ đỗ đệ nhất Đô lực sĩ, làm quan thăng dần đến chỉ huy sứ, coi sóc các đạo quân, và được làm Phò mã, tước Vũ Xuyên Bá, kết duyên cùng công chúa Lê Thị Ngọc Minh. Chẳng bao lâu ông lại được tấn phong làm Thái sư, tước Nhân Quốc Công, rồi gia phong đến tước An Hưng Vương. Từ đây ông càng thao túng triều chính, dẫn đến sự lật đổ vua Lê, dựng nên nhà Mạc vào năm Đinh Hợi 1527.\\n\\nTuy vậy, ông vẫn sợ nhà Minh hạch sách, bèn cắt đất hai châu Vĩnh An, An Quảng gồm 6 động: Tế Phù, Kim Lặc, Cổ Sâm, Liêu Cát, An Lương và La Phu dâng cho nhà Minh, thuộc vào Châu Khâm.\\n\\nÔng chỉ ở ngôi vua 3 năm, truyền ngôi cho con lớn là Mạc Đăng Doanh mà làm Thái thượng hoàng, ra ở điện Tường Quang, sau về Cổ Trai để trấn nơi trọng yếu.\\n\\nNăm Canh Tí 1540 Mạc Đăng Doanh mất, ông trở về Đông Kinh lập cháu nội là Phúc Hải lên nối ngôi. Bấy giờ ông cũng đã suy yếu rồi.\\n\\nNăm Tân Sửu 1541, ngày 22-8 âm lịch ông mất, hưởng dương 58 tuổi, chôn ở Long Sơn, mộ hiệu là An Lăng; thụy là Nhân minh Cao hoàng đế, miếu hiệu Thái tổ. Có Thượng thư Ngô Miên Thiệu và Thị như Giáp Hải soạn văn bia.\\n\\nÔng có 10 con trai, 4 con gái và từng phong tước cho con như sau:\\n\\nCon trưởng:\\n\\nMạc Đăng Doanh phong Dục Mỹ Hân (lập làm thái tử ',\n",
              "  'ir_score': 0.024597867445077696,\n",
              "  'overlap_key_words': 3},\n",
              " {'answer': '1442',\n",
              "  'bert_score': 0.6658933852431397,\n",
              "  'content': 'Lê Thánh Tông (Tư Thành,1460-1497)\\n\\nLê Thánh Tông tự là Tư Thành có tên huý là Hạo, con trai út của Lê Thái Tông và bà Ngô Thị Ngọc Giao - con gái Thái Bảo Ngô Từ. Lê Tư Thành sinh ra tại chùa Huy Văn - nay ở phía trong ngõ Văn Chương, phố Tôn Đức Thắng (Hàng Bột cũ), Hà Nội. Sống giữa chốn dân gian từ nhỏ đến năm lên 4 tuổi. Mẹ Nhân Tông khi đó đang buông rèm nghe chính sự, cho đón Tư Thành về ở trong cung rồi phong làm Bình Nguyên vương hằng ngày cùng vua Nhân Tông và các vương hầu khác học tập tại toà Kính Diên. Tư Thành chăm chỉ học tập, dáng dấp đoan chính, thông tuệ hơn người, được vua Nhân Tông rất yêu quý.\\n\\nLê Thánh Tông sinh ngày 20 tháng 7 năm Nhâm Tuất - 1442. Ngày 6 tháng 6 năm Canh Thìn - 1460, các quan đại thần phế truất Nghi Dân, rước Tư Thành - lúc đó 18 tuổi - lên ngôi vua.\\n\\nLê Thánh Tông hết lòng chăm lo việc nước: mở khoa thi, kén chọn hiền tài, khuyến khích sản xuất nông nghiệp, mở mang ngành nghề, mở rộng giao lưu buôn bán, ban hành chế độ quân điền, coi trọng việc bảo vệ biên giới quốc gia. Bản đồ biên giới quốc gia Đại Việt được hoàn thành dưới triều Lê Thánh Tông.\\n\\nBộ luật Hồng Đức nổi tiếng mang niên hiệu vua Lê Thánh Tông còn lại cho đến nay là một trong những bộ luật hoàn chỉnh và có nhiều điểm tiến bộ nhất dưới thời phong kiến nước ta.\\n\\nBộ Đại việt sử ký toàn thư do sử quan Ngô Sĩ Liên biên soạn năm Kỷ Hợi - 1479 dưới sự chỉ đạo của vua Lê Thánh Tông.\\n\\nLê Thánh Tông còn lập ra Hội Tao Đàn gồm 28 ông tiến sĩ giỏi văn thơ nhất nước thời đó gọi là \"Tao Đàn nhị thập bát tú\" do nhà vua làm nguyên suý.\\n\\nNăm 1497, Lê Thánh Tông mất, ở ngôi 37 năm, thọ 56 tuổi, táng ở Chiêu Lăng.',\n",
              "  'ir_score': 0.005861292773204251,\n",
              "  'overlap_key_words': 3},\n",
              " {'answer': '1320',\n",
              "  'bert_score': 0.8988282091741323,\n",
              "  'content': 'Phạm Ngũ Lão (Ất Mão 1255-Canh Thân 1320)\\n\\nDanh tướng đời Trần, quê làng Phù Ủng, huyện Đường Hào, phủ Thượng Hồng, tỉnh Hải Dương.\\n\\nÔng tài liêm văn võ, được Hưng Đạo vương Trần Quốc Tuấn tin cẩn, gả con gái nuôi và tiến cử với triều đình giữ chức Hạ phẩm phụng ngự, rồi thăng Quản hữu vệ thánh dực giản.\\n\\nTrong hai cuộc kháng chiến chống quân xâm lược Mông - Nguyên, ông dày công lao lần lượt giữ các chức: Hữu Kim ngô vệ Đại tướng quân, Thân vệ đại tướng quân, Điện súy đại tướng quân, tước Quân Nội Hầu. Từng được ban phù vành hình rùa và phù vàng hình hổ.\\n\\nNăm Canh Thân, tháng 11 Âm lịch (12-1320) ông mất thọ 65 tuổi. Thơ văn ông nay chỉ còn truyền tụng hai bài: Thuật hoài và Văn Hưng Đạo đại vương.',\n",
              "  'ir_score': 0.019257668931008266,\n",
              "  'overlap_key_words': 2}]"
            ]
          },
          "metadata": {
            "tags": []
          },
          "execution_count": 43
        }
      ]
    }
  ]
}