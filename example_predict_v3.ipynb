{
  "nbformat": 4,
  "nbformat_minor": 0,
  "metadata": {
    "colab": {
      "name": "example_predict.ipynb",
      "provenance": [],
      "include_colab_link": true
    },
    "kernelspec": {
      "name": "python3",
      "display_name": "Python 3"
    },
    "accelerator": "GPU"
  },
  "cells": [
    {
      "cell_type": "markdown",
      "metadata": {
        "id": "view-in-github",
        "colab_type": "text"
      },
      "source": [
        "<a href=\"https://colab.research.google.com/github/koyomin9zx/UITQA-Vietnamese-Question-Answering/blob/master/example_predict_v3.ipynb\" target=\"_parent\"><img src=\"https://colab.research.google.com/assets/colab-badge.svg\" alt=\"Open In Colab\"/></a>"
      ]
    },
    {
      "cell_type": "code",
      "metadata": {
        "id": "BslQeHl4qVUj",
        "colab_type": "code",
        "colab": {}
      },
      "source": [
        "!git clone https://github.com/koyomin9zx/UITQA-Vietnamese-Question-Answering.git"
      ],
      "execution_count": null,
      "outputs": []
    },
    {
      "cell_type": "code",
      "metadata": {
        "id": "mUKLdjyk2kAJ",
        "colab_type": "code",
        "colab": {}
      },
      "source": [
        "!pip install pytorch-transformers\n",
        "!pip install underthesea \n",
        "!pip install unidecode"
      ],
      "execution_count": null,
      "outputs": []
    },
    {
      "cell_type": "code",
      "metadata": {
        "id": "N9p5f4LHYj00",
        "colab_type": "code",
        "colab": {}
      },
      "source": [
        "from google.colab import drive\n",
        "drive.mount('/content/drive')"
      ],
      "execution_count": null,
      "outputs": []
    },
    {
      "cell_type": "code",
      "metadata": {
        "id": "azCO_Yqt5awd",
        "colab_type": "code",
        "colab": {}
      },
      "source": [
        "!ln -s /content/drive/'My Drive'/data\n",
        "%cd /content/UITQA-Vietnamese-Question-Answering"
      ],
      "execution_count": null,
      "outputs": []
    },
    {
      "cell_type": "code",
      "metadata": {
        "id": "-X4w72iQ6VhJ",
        "colab_type": "code",
        "colab": {}
      },
      "source": [
        "# importing libraries \n",
        "from underthesea import word_tokenize, sent_tokenize, pos_tag\n",
        "from sklearn.feature_extraction.text import TfidfVectorizer \n",
        "from sklearn.metrics.pairwise import cosine_similarity \n",
        "from scipy.spatial import distance \n",
        "from collections import defaultdict, OrderedDict \n",
        "from string import punctuation\n",
        "import re\n",
        "import glob\n",
        "from bert import QA\n",
        "from utils import *\n",
        "import time\n",
        "import sys\n",
        "import os"
      ],
      "execution_count": 29,
      "outputs": []
    },
    {
      "cell_type": "code",
      "metadata": {
        "id": "FlQ8dspK2OwP",
        "colab_type": "code",
        "colab": {
          "base_uri": "https://localhost:8080/",
          "height": 34
        },
        "outputId": "2865f3f7-032e-4da0-fa93-b8f15e429c97"
      },
      "source": [
        "start = time.time()\n",
        "model=QA('/content/data/BERT_Squad_WIki_UIT_pretrain') #path to model\n",
        "end = time.time()\n",
        "print(\"time load model: \"+str(round((end - start),2)))"
      ],
      "execution_count": 8,
      "outputs": [
        {
          "output_type": "stream",
          "text": [
            "time load model: 38.36\n"
          ],
          "name": "stdout"
        }
      ]
    },
    {
      "cell_type": "code",
      "metadata": {
        "id": "tvcP8N1z6bwS",
        "colab_type": "code",
        "colab": {}
      },
      "source": [
        "def load_data(path):\n",
        "  data=[]\n",
        "  all_files = glob.glob(path + \"/*.txt\")\n",
        "  for file in all_files:\n",
        "      passage=open(file, \"r\", encoding='utf-8').read()\n",
        "      data.append(passage)\n",
        "  return data\n",
        "\n",
        "def vi_tokenizer(row):\n",
        "    return word_tokenize(row, format=\"text\")\n",
        "\n",
        "def remove_stopwords(stopwords,text):\n",
        "  sent = [s for s in text.split() if s not in stopwords ]\n",
        "  sent = ' '.join(sent)\n",
        "  return sent\n",
        "\n",
        "\n",
        "def standardize_data(df,stopwords):\n",
        "    hl_cleansed=[]\n",
        "    remove = punctuation\n",
        "    pattern = \"[{}]\".format(remove) # create the pattern\n",
        "    re_space=re.compile('\\s+')\n",
        "    re_trailing=re.compile('^\\s+|\\s+?$')\n",
        "    for row in df:\n",
        "        row=re.sub(pattern, \" \", row) \n",
        "        row=re.sub(re_space,' ',row)\n",
        "        row=re.sub(re_trailing,' ',row)\n",
        "        row = row.strip()\n",
        "        row = remove_stopwords(stopwords,row)\n",
        "        hl_cleansed.append(row)\n",
        "    return hl_cleansed\n",
        "\n",
        "def keywords_extraction(sent):\n",
        "  rs=\"\"\n",
        "  for i in pos_tag(sent):\n",
        "    if i[1] !='P' and i[1] != 'CH':\n",
        "      rs=rs+' '+i[0]\n",
        "  return rs.strip()\n",
        "\n",
        "\n",
        "## Converting 3D array of array into 1D array \n",
        "def arr_convert_1d(arr): \n",
        "    arr = np.array(arr) \n",
        "    arr = np.concatenate( arr, axis=0 ) \n",
        "    arr = np.concatenate( arr, axis=0 ) \n",
        "    return arr \n",
        "  \n",
        "## Cosine Similarity \n",
        "def cosine(trans): \n",
        "    cos = [] \n",
        "    cos.append(cosine_similarity(trans[0], trans[1])) \n",
        "    return cos\n",
        "\n",
        "def tfidf(str1, str2,tf_idf_vetor): \n",
        "    corpus = [str1,str2] \n",
        "    trans = tf_idf_vetor.transform(corpus)\n",
        "    cos=cosine(trans) \n",
        "    return arr_convert_1d(cos)[0]\n",
        "\n",
        "def relevance_ranking(query,data,vect,top_n_matching=None):\n",
        "  key_words_query=keywords_extraction(query)\n",
        "  results=[]\n",
        "  for doc in data:\n",
        "    rs=dict()\n",
        "    ir_score=tfidf(key_words_query, doc,vect)\n",
        "    num_overlap=len(set(key_words_query.split()) & set(doc.split()))\n",
        "    if ir_score!=0.0:\n",
        "      rs['overlap_key_words']=num_overlap\n",
        "      rs['ir_score']=ir_score\n",
        "      rs['content']=doc\n",
        "      results.append(rs)\n",
        "  results=sorted(results, key=lambda k: k['overlap_key_words'], reverse=True)\n",
        "  if top_n_matching:\n",
        "    results=results[:top_n_matching]\n",
        "  return results"
      ],
      "execution_count": 34,
      "outputs": []
    },
    {
      "cell_type": "code",
      "metadata": {
        "id": "zCvbhr-l4ehW",
        "colab_type": "code",
        "colab": {}
      },
      "source": [
        "data=load_data('/content/data/data_QA/data')\n",
        "stopwords = set(open('/content/data/data_QA/stopwords/stopwords.txt').read().split(' ')[:-1])\n"
      ],
      "execution_count": 31,
      "outputs": []
    },
    {
      "cell_type": "code",
      "metadata": {
        "id": "1QyNMEbyO1NX",
        "colab_type": "code",
        "colab": {}
      },
      "source": [
        "#Building index\n",
        "data_standard=standardize_data(data,stopwords)\n",
        "vect = TfidfVectorizer(min_df=1, max_df=0.8,max_features=8000,sublinear_tf=True,ngram_range=(1,3)) \n",
        "vect.fit(data_standard)"
      ],
      "execution_count": null,
      "outputs": []
    },
    {
      "cell_type": "code",
      "metadata": {
        "id": "lx0MvsQZos_c",
        "colab_type": "code",
        "colab": {
          "base_uri": "https://localhost:8080/",
          "height": 87
        },
        "outputId": "d7b77917-7f0b-44ca-9d1d-c62e193a0032"
      },
      "source": [
        "rs=relevance_ranking('Võ Nguyên Giáp quê ở đâu ?',data_standard,vect,1)\n",
        "rs"
      ],
      "execution_count": 35,
      "outputs": [
        {
          "output_type": "execute_result",
          "data": {
            "text/plain": [
              "[{'content': 'Võ Nguyên Giáp sinh 1911 Võ Nguyên Giáp sinh 1911 nhà hoạt động nổi tiếng Đảng Cộng sản Nhà nước Việt Nam nhà huy nhà lí luận quân xuất sắc Việt Nam Quê xã Lộc Thuỷ huyện Lệ Thuỷ tỉnh Quảng Bình Sớm hoạt động cách mạng tham gia lãnh đạo phong trào học sinh Huế 1925 tham gia Tân Việt Cách mạng Đảng Bị thực dân Pháp bắt 1930 đưa về quê quản thúc Ra Hà Nội tham gia hoạt động trong phong trào Mặt trận dân chủ Tham gia sáng lập báo Lao động Tiếng nói chúng ta biên tập báo Tin tức Dân chúng Chủ tịch Uỷ ban Báo chí Bắc Kỳ trong phong trào Đông Dương đại hội Gia nhập Đảng Cộng sản Đông Dương 1940 Gây dựng cơ sở cách mạng tổ chức Việt Minh ở Cao Bằng 1941 tổ chức Ban Xung phong Nam tiến 1942 Được lãnh tụ Nguyễn Ái Quốc giao tổ chức Đội Việt Nam Tuyên truyền Giải phóng quân 12 1944 huy đội đánh thắng hai trận đầu ở Phai Khắt 25 12 1944 Nà Ngần 26 12 1944 Uỷ viên Uỷ ban Quân Cách mạng Bắc Kỳ tư lệnh Việt Nam Giải phóng quân uỷ viên Ban Chỉ huy Lâm thời khu giải phóng Việt Bắc tham gia Uỷ ban Khởi nghĩa Toàn quốc uỷ viên Uỷ ban Dân tộc Giải phóng Việt Nam 8 1945 Uỷ viên Ban Chấp hành Trung ương uỷ viên thường vụ Ban Chấp hành Trung ương Đảng 1945 Bộ trưởng Bộ Nội vụ bí thư Đảng Đoàn Chính phủ 8 1945 Chủ tịch Quân Uỷ viên Hội 4 1946 phó trưởng đoàn Chính phủ Việt Nam Dân chủ Cộng hòa đàm phán Pháp Hội nghị trù Đà Lạt 1946 Uỷ viên Ban Chấp hành Trung ương Đảng khoá II VI uỷ viên Bộ Chính trị khoá II IV Bí thư Tổng Quân uỷ Quân uỷ Trung ương 1946 77 Bộ trưởng Bộ Quốc phòng 1946 1947 đại tướng 1948 tổng huy Quân đội Quốc gia Dân quân Việt Nam tổng tư lệnh Quân đội Nhân dân Việt Nam 1975 uỷ viên Hội đồng Quốc phòng 1948 Trong Kháng chiến chống Pháp trực tiếp huy chiến dịch lớn đặc biệt Chiến dịch Điện Biên Phủ 1954 Trong Kháng chiến chống Mĩ đạo chiến dịch lớn đặc biệt Chiến dịch Hồ Chí Minh 1975 Phó thủ tướng kiêm bộ trưởng Bộ Quốc phòng 1955 1980 Phó chủ tịch Hội đồng Bộ trưởng 1981 1991 Đại biểu Quốc hội khoá I VII Tác phẩm Vấn đề dân cày đồng tác giả Khu giải phóng 1946 Đội quân giải phóng 1947 Chiến tranh giải phóng quân đội nhân dân ba giai đoạn chiến lược 1950 Điện Biên Phủ 1964 Mấy vấn đề đường lối quân Đảng 1970 Vũ trang quần chúng cách mạng xây dựng quân đội nhân dân 1972 Chiến tranh giải phóng dân tộc chiến tranh bảo vệ Tổ quốc 1979 Tư tưởng Hồ Chí Minh con đường cách mạng Việt Nam 2000 vv Huân chương Sao vàng hai Huân chương Hồ Chí Minh hai Huân chương Quân công hạng nhất huân chương cao quý khác',\n",
              "  'ir_score': 0.11461936056096103,\n",
              "  'overlap_key_words': 5}]"
            ]
          },
          "metadata": {
            "tags": []
          },
          "execution_count": 35
        }
      ]
    },
    {
      "cell_type": "code",
      "metadata": {
        "id": "BY9jZ7wU9p4F",
        "colab_type": "code",
        "colab": {}
      },
      "source": [
        "def IR_QA(query,data,top_n_matching=None):\n",
        "  key_words_query=keywords_extraction(query)\n",
        "  IR_ranking=relevance_ranking(key_words_query,data,vect,top_n_matching)\n",
        "  rs=[]\n",
        "  for ranking in IR_ranking :\n",
        "    result=dict()\n",
        "    answer = model.predict(ranking['content'],query)\n",
        "    if answer['confidence'] >0.4:\n",
        "      result['overlap_key_words']=ranking['overlap_key_words']\n",
        "      result['answer']=answer['answer']\n",
        "      result['ir_score']=ranking['ir_score']\n",
        "      result['bert_score']=answer['confidence']\n",
        "      result['content']=ranking['content']\n",
        "      rs.append(result)\n",
        "  return rs \n"
      ],
      "execution_count": 36,
      "outputs": []
    },
    {
      "cell_type": "code",
      "metadata": {
        "id": "mycAMcTEGbEM",
        "colab_type": "code",
        "colab": {
          "base_uri": "https://localhost:8080/",
          "height": 289
        },
        "outputId": "7e668394-b06f-486b-9d85-c000c8a62631"
      },
      "source": [
        "query=\"Lương Võ Đế sai Trần Bá Tiên đem quân sang đánh phá nước ta năm nào?\"\n",
        "\n",
        "IR_QA(query,data,3)"
      ],
      "execution_count": 42,
      "outputs": [
        {
          "output_type": "execute_result",
          "data": {
            "text/plain": [
              "[{'answer': '545',\n",
              "  'bert_score': 0.7302391759904686,\n",
              "  'content': 'Triệu Quang Phục (…- Tân Mão)\\n\\nDanh tướng nhà Tiền Lý, con Thái phó Triệu Túc, quê ở Châu Biên, phủ Vĩnh Tường, tỉnh Vĩnh Yên (nay thuộc Vĩnh Phú).\\n\\nTừ năm Tân Dậu 541 ông theo cha ra giúp Lý Bôn đánh đuổi quân nhà Lương xâm lược nước ta. Năm Giáp Tí 544, khởi nghĩa thành công, Lý Bôn xưng đế, phong ông làm Tả tướng quân.\\n\\nNăm Ất Sửu 545, Lương Võ Đế lại sai Trần Bá Tiên đem quân sang đánh phá, đưa Diêu Phiêu làm Thứ sử\\n\\nNăm 546, Lý Bí phải rút quân về động Khuất Lão (Tam Nông, Phú Thọ ngày nay; có ý kiến cho rằng, Khuất Lão thuộc Tuyên Quang), giao binh cho Triệu Quang Phục. Ông lấy vùng Đầm Dạ Trạch (Khoái Châu, Hưng Yên ngày nay) làm căn cứ. Nhân dân gọi ông là Dạ Trạch Vương.\\n\\nNăm 550, ông tập trung lực lượng đánh bại quân Lương lấy lại thành Long Biên (nay thuộc Bắc Ninh). Quân sĩ suy tôn ông làm vua tức Triệu Việt Vương.\\n\\nNăm 557, Lý Phật Tử (cùng họ với Lý Bí) kéo quân về đánh, đòi ngôi vua. Sau nhiều trận bất phân thắng bại, hai bên giảng hoà, kết mối thông gia, phân chia lại địa giới.\\n\\nNăm 571, Lý Phật Tử đem quân đánh úp kinh thành, ông bị thua, chạy đến cửa Đại An (Nam Định) thì mất.',\n",
              "  'ir_score': 0.22588887998227894,\n",
              "  'overlap_key_words': 13},\n",
              " {'answer': '1005',\n",
              "  'bert_score': 0.5766124070269576,\n",
              "  'content': 'Lê Hoàn – Đại hành Hoàng đế (Tân Sửu 941-Ất Tị 1005)\\n\\nLê Hoàn là một viên tướng trẻ tài nǎng, đi theo Nam Việt Vương Đinh Liễn. Dù chỉ là lính thường nhưng trí dũng khác thường, tính tình phóng khoáng nên anh được cha con Đinh Bộ Lĩnh yêu mến. Tiếp đó Đinh Liễn được vua cha giao cho đặc trách công việc ngoại giao, liên tiếp đi sứ Trung Quốc để tranh thủ cảm tình với nhà Tống, ông đưa Lê Hoàn tiến cử lên vua cha, và quả nhiên viên tướng trẻ này đã được Tiên Hoàng ái mộ. Đinh Tiên Hoàng lên ngôi năm 43 tuổi, Lê Hoàn lúc này mới có 26 tuổi, vẫn còn quá trẻ. Nhưng Tiên Hoàng vẫn quyết định giao cho chàng trai một chức vụ quan trọng: làm quan thập đạo tướng quân, coi sóc mười đạo binh của cả nước. Người thanh niên, chưa đầy ba mươi tuổi, đã trở thành một đại nguyên soái của quốc gia đang thời kỳ trứng nước. \\n\\nBản thân Lê Hoàn cũng rất phấn khởi khi nhận nhiệm vụ này. Nhiệm vụ trọng đại, nhưng ông tự xét mình có thể cáng đáng được. Cả một quá trình tôi luyện tuy không dài lắm - chưa quá mười lăm năm, ông cũng đã tích lũy được ít nhiều kinh nghiệm, hiểu biết việc quân cơ. Các ông Đinh Điền, Nguyễn Bặc vẫn phải ngầm tín phục ông, còn các tướng lĩnh giỏi giang như Phạm Cự Lượng, Trần Công Lương đã dành cho ông rất nhiều thiện cảm. Đông đảo binh sĩ ở các cơ, các đội thường tự hào được ông chỉ huy, dìu dắt, giúp cho họ lập được nhiều chiến công. Quần chúng xa gần, nghe tiếng ông, đều rất khâm phục, mặc dù họ chưa hiểu về ông nhiều lắm.\\n\\nVà ngay cả ông cũng không tự biết gốc gác gia đình của mình. Ông chỉ biết có bà mẹ cô đơn, vất vả nuôi con trong hoàn cảnh túng thiếu nghèo nàn, cho đến khi ông được sáu tuổi, thì bà đã lìa bỏ cõi trần, Lê Hoàn được một người quen ở làng Mía, tên là Lê Đột nuôi làm con nuôi. Lê Đột cũng là một người khá giả trong làng. Ông đã được bà Đặng Thị, mẹ đẻ của Lê Hoàn gởi con trước khi bà mất: Lê Hoàn lúc đó dù còn bé bỏng, cũng nhận ra được là Lê Đột có cảm tình với mình. Một phần do lòng nhân ái, cám cảnh số phận hai mẹ con nhà nghèo, một phần vì thấy cậu bé mặt mũi khôi ngô, dễ thương, có vẻ lanh lợi. Chuyện kể rằng có một hôm cậu bé Lê Hoàn xay lúa xong thì nằm phục lên trên cối đá mà ngủ vào giữa đêm khuya. Lê Đột thức giấc vì thấy có ánh sáng tỏa ra dưới nhà bếp của mình, liền đi vào xem thì cảm thấy như có con rồng vàng đang che phủ lên người cậu bé. Ông thầm nghĩ cậu bé này có tướng lạ, sau này chắc sẽ làm nên sự nghiệp. Ông lặng lẽ giấu kín, không cho ai biết chuyện này, mà chỉ để tâm quí mến cậu bé hơn. Ông cho Lê Hoàn đi học. Cậu học rất thông minh, mau hiểu biết. Ngoài thời gian đi học cậu đi chăn trâu cắt cỏ, và được những trẻ mục đồng yêu mến. Ông càng tin rằng đứa con nuôi này nhất định sẽ có ngày thành đạt.\\nLàm con nuôi Lê Đột, Lê Hoàn nhiều lúc cũng có những băn khoăn về nguồn gốc của mình. Cha cậu là ai, ở đâu, bây giờ còn sống hay đã mất, là điều cậu không sao biết được. Cậu chỉ biết có mẹ. Mẹ cậu là bà Đặng Thị Sen người ở Kẻ Sập, sau này sách vở ghi tên là Khả Lập. Những ngày còn được mẹ nâng niu chăm sóc, Lê Hoàn còn bé quá, nên cũng không biết hỏi đến cha chú họ hàng, mãi sau này ở với Lê Đột, cũng không bao giờ được Lê Đột nhắc tới. Cậu chỉ nghe một số người trong làng nói rằng lúc mẹ đi cấy ở cánh đồng Tích Nội (đồng Trẩy), có một đóa hoa sen cứ dạt vào trước mặt bà. Bà khoát đi cố đẩy nó ra xa, nhưng nó lại dạt vào như cũ. Bà liền lấy bóc ra ăn. Không ngờ sau đó thụ thai đến 13 tháng mới sinh ra Lê Hoàn. Â\\'y là tất cả những gì mà Lê Hoàn biết được về cha mẹ mình. Thế rồi thời gian đã làm cho Lê Hoàn không quan tâm đến khả năng tìm hiểu lai lịch của người cha bí mật của mình. Cũng không phải quan tâm gì đến chuyện họ hàng làng nước. Đời ông đã hoàn toàn dành cho sự nghiệp chiến đấu và toàn tâm phụng sự vua Đinh. Con người hơn ông 16 tuổi này, đã có chiến công tung hoành ngang dọc, dẹp dược nội loạn, thu giang san về một mối, thực xứng đáng là một bậc anh hùng. Trong cuộc đánh dẹp các sứ quân, Lê Hoàn tỏ ra là người có tài nên được Đinh Bộ Lĩnh giao cho trông coi 2000 binh sĩ. Đến khi dẹp yên các sứ quân thống nhất đất nước, lập nên cơ nghiệp nhà Đinh. Lê Hoàn được phong chức Thập đạo tướng quân, Điện tiền đô chỉ huy sứ của triều đình Hoa Lư. Lúc này Lê Hoàn vừa tròn 30 tuổi.\\n\\nDo tài năng và phẩm chất của mình, lại đang mang chức vụ là Thập đạo tướng quân, Lê Hoàn được mọi người giao trách nhiệm làm nhiếp chính cho ông vua nhỏ Đinh Toàn, mới có 6 tuổi, với danh hiệu là Vệ Vương. Bà mẹ của Đinh Toàn là Dương Thị làm Hoàng thái hậu, cùng coi việc triều chính.\\n\\nLàm nhiếp chính cho một ông vua nhỏ nên Lê Hoàn phải tự mình định đoạt, giải quyết tất cả mọi vấn đề của đất nước. Ông tự xưng là phó vương, và cũng được các triều thần đồng ý. Chỉ có các ông Nguyễn Bặc, Đinh Điền, Phạm Hạp là không tán thành. Họ cho rằng Lê Hoàn đang có âm mưu cướp ngôi, nên cần phải hành động chống lại. Họ đem quân bản bộ của mình, tấn công Hoa Lư. Nhưng Lê Hoàn đã kịp thời chống lại, đốt cháy các chuyến thuyền. Tất cả ba người đều bị bắt sống, đem về hành tội.\\n\\nNghe tin Đinh Tiên Hoàng mất, Ngô Nhật Khánh dẫn quân Chiêm Thành đem hơn một nghìn chiến thuyền sang đánh nước ta. Lê Hoàn điều binh chống lại, thuyền chiến đến hai bên cửa bể Đại ác (tức Đại An, Nam Định) và Tiểu Khang (cửa Càn, Yên Mô, Ninh Bình) bị mưa bão, đều lật chìm. Ngô Nhật Khánh và quân Chiêm đều chết đuối, chỉ có thuyền vua Chiêm chạy thoát về nước. \\n\\nBấy nhiêu thắng lợi càng nâng cao uy tín của Lê Hoàn. Triều đình và dân chúng đều thấy rằng ông thực sự là con người lãnh đạo đất nước. Nhưng Lê Hoàn vẫn chưa hề nghĩ đến việc mình sẽ rắp ranh ngôi báu. Trong tình hình triều chính vô cùng rối ren Lê Hoàn thấy mình phải cố gắng hết sức để ổn định vương triều nhà Đinh. Ông thành thực phò tá ông vua nhỏ Đinh Toàn, giữ đúng phép tắc của một người bầy tôi trước vị vua nhỏ tuổi. Và bên cạnh Đinh Toàn còn có bà Dương Hậu. Bà không chính thức đóng vai trò nhiếp chính, nhưng vẫn phải lo chăm sóc cho con, bày vẽ cho con từ cách đi đứng, cách ngồi trên ngai vàng và ứng xử trò chuyện với trăm quan. Những lúc triều đình có việc, bà cũng phải lắng nghe, phải chờ đợi ý kiến Lê Hoàn và truyền đạt lại với con, để hiểu ý phó vương cho rõ. Trước đây, hồi Đinh Tiên Hoàng còn sống, thỉnh thoảng bà cũng có gặp Lê Hoàn vài phút thoáng qua còn bây giờ thì gần như lúc nào, bà cũng phải trò chuyện, hỏi han vị thập đạo tướng quân, lúc con bà lâm triều, cũng như lúc ra vào cung nội. \\n\\nDương Hậu hãy còn trẻ lắm. Không rõ tên thật của bà là gì (sau này nhiều tài liệu viết bà là Dương Vân Nga, lâu ngày thành quen, chứ thực ra sử sách không ghi chính thức). Bà thuộc dòng dõi của Dương Diên Nghệ, là con gái của Dương Tam Kha, về làm vợ Đinh Tiên Hoàng, cùng với 4 bà khác đều được phong là Hoàng hậu. Những buổi gặp gỡ thân tình với vị thập đạo tướng quân oai phong, đường bệ, luôn luôn làm cho Dương Hậu xao xuyến một niềm riêng. Con người tài năng và anh hùng như thế, sao lại không thể là một chỗ dựa cho mình. Đứa con ta hiện nay đang được người chăm sóc, và bản thân ta cũng thấy người đối xử một cách khác thường. Những lời tâu thái hậu trịnh trọng, nhưng lại rất dịu dàng, hình như trong đó chứa đựng một chút gì kín đáo. Nhưng nếu... thì có gây ra những điều dị nghị gì không... Dương Hậu băn khoăn, nhưng bà cũng không dám nghĩ xa hơn nữa. Phải cố nén lòng, và hãy cùng Lê Hoàn giúp Đinh Toàn làm quen với công việc của một ông vua. Về phía Lê Hoàn, ông cũng nhận ra được cảm tình của Dương Hậu, nhưng ông vẫn luôn luôn giữ đúng tư cách của mình. Dù sao đi nữa, thì bây giờ đây, mình còn ở địa vị một kẻ bề tôi.\\nCòn rồi đây? Lê Hoàn cũng không dám nghĩ xa hơn nữa....\\nGiữa lúc ấy thì ở phương Bắc, nhà Tống lại rắp tâm thôn tính phương Nam. Tin hai cha con Đinh Tiên Hoàng và Đinh Liễn bị giết hại, khiến cho Triều đình nhà Tống nghĩ đến cơ hội thuận lợi để tiến hành một cuộc chiến tranh xâm lược. \\nGiờ chiến tranh đã điểm. Vua Tống lại sai Lư Đa Tốn viết thư cho Lê Hoàn, vừa chiếu dụ vừa đe dọa. Lá thư này do một nhà văn đời Tống là Vương Vũ Xứng thảo, có đoạn dùng lời rất quyết liệt, bảo Lê Hoàn: \"Người nên qui phục, chớ để vạ đến. Quân lính nhà vua đã chỉnh tề, trống chiêng nghiêm ngặt, theo ta thì ta tha, trái ta thì ta đánh. Chỉ có theo hay chống là lành hay dữ, người nên xét kỹ\".\\n\\nTrước tình thế vô cùng nghiêm trọng ấy, cả triều đình đều vô cùng lo ngại. Tiếp theo là văn thư các cấp từ Lạng Châu (Bắc Giang, Lạng Sơn) gửi về, các quan văn võ bàn ra nói vào, kẻ bảo nên đánh, kẻ nghĩ nên hàng, chưa biết quyết định ra sao. Còn ông vua nhỏ Đinh Toàn cố nhiên không biết nói năng gì, chỉ biết trông chờ vào mẹ. Dương Hậu quay lại nói với Lê Hoàn: Tình thế bức bách như vậy, tướng quân định liệu ra sao?\\nLê Hoàn thản nhiên đáp:\\n- Xin Thái hậu, đừng quá bận tâm mà ảnh hưởng đến ngọc thể. Tôi đã được giao việc phò vua giúp nước, xin hết lòng hết sức không ngại khó khăn.\\nTrước thái độ đường hoàng và lập trường kiên quyết của Lê Hoàn, Dương Hậu thấy yên tâm giảm bớt điều lo lắng. Bà ân cần nói với vị tướng đầy tin tưởng:\\n- Đã vậy, ta thiết nghĩ tướng quân nên ra hiểu dụ ba quân, và nếu binh đội của ta chưa đủ, thì nên kịp thời cho tuyển thêm dũng sĩ trong các lộ, các châu về luyện tập, chờ ngày giao chiến với địch.\\n\\nLê Hoàn mời ngay Đinh Toàn và Dương Hậu ngự triều. Ông trình bày cho các quan văn võ nhận rõ trách nhiệm phải bảo vệ đất nước, giữ gìn cơ nghiệp. Ông cũng phân tích lợi hại giữa hai bên quân Tống và quân ta, chỉ ra rằng chúng ta chắc chắn có thể giành được thắng lợi. Ông giơ tay, dõng dạc:\\n- Mai ngày quân địch kéo sang, tôi xin tự thân mình đốc suất việc phòng bị và chống cự, song rất cần có những đại tướng giúp đỡ trong việc dùng binh. Xin được cử ông Phạm Cự Lượng làm đại tướng quân, đi tiền phong trong cuộc giao chiến.\\nNghe Lê Hoàn tiến cử Phạm Cự Lượng, triều đình ai cũng ngạc nhiên. Phạm Cự Lượng là em Phạm Hạp, người đã cùng Nguyên Bặc, Đinh Điền khởi binh chống lại Lê Hoàn, bị Lê Hoàn đánh bại, bắt giam và xử tử. Biết đâu Phạm Cự Lượng không nung nấu một mối thù không đội trời chung với người đã chặt đứt tình anh em ruột thịt của mình. Nhưng rồi họ nghĩ lại. Quả thực Lê Hoàn là con người đại lượng, không có sự tị hiềm, biết tin tưởng vào phẩm chất người giúp việc mình. Trước tình hình gay go của đất nước, vấn đề thiết yếu nhất là phải chọn được đúng người có khả năng. Phạm Cự Lượng là đại tướng thì phải giao trách nhiệm cho xứng đáng. Dù là anh em, người nào, có chí hướng riêng của người nấy, không nên vì tội của anh, mà có thành kiến nghi ngờ với em. Lê Hoàn đã làm đúng như thế. Cả triều đình rất khâm phục ông, còn Phạm Cự Lượng lại càng kính trọng ông bội phần.\\nThế rồi ngay lúc đó, Phạm Cự Lượng bước ra, tuyên bố cùng các võ tướng, các binh sĩ đang tề tựu đông đủ:\\n- Tôi xin có lời để ba quân cùng hay? Thưởng người có công, giết kẻ vi mệnh, đấy là phép hành binh. Nay chúa thượng ấu thơ, chúng ta tuy hết sức liều chết chống giặc ngoại xâm, may mà có chút công lao thì ai biết đến cho? Chi bằng trước hết ta hãy tôn quan thập đạo tướng quân lên làm Thiên tử, rồi sau sẽ phát binh cũng không muộn.\\nTiếng ông Phạm dứt lời, tất cả các võ tướng, quân sĩ đều náo nức tung hô: Vạn tuế! Vạn tuế? Các quan văn võ trong triều ngơ ngác một phút, rồi cũng đều tung hô theo. Lê Hoàn chắc cũng xúc động bởi giây phút này, nhưng ông vẫn cảm thấy bất ngờ. Lần đầu tiên, chàng thanh niên dù đã từng trải cuộc đời mà vẫn cảm thấy lúng túng. Ông nhìn lên ngai vàng, chỗ của Đinh Toàn đang ngồi, rồi liếc sang chiếc ghế của Dương Hậu. Bà Dương cũng lúng túng một phút. Một niềm vui dâng lên trong tâm trí, bà cảm thấy như quân sĩ và trăm quan đã cởi được cho bà một sự bế tắc ấp ủ lâu nay. Thoáng nhận ra nguy tình thế, hợp với lòng mình, bà tán thành ý kiến suy tôn của mọi người. Đúng, họ nghĩ như vậy là phải. Đứa con ta tuy được nối ngôi, nhưng còn quá bé bỏng, không thể đảm đương được quốc gia Đại sự. Lê Hoàn mới là người xứng đáng ngự trị ngai vàng. Có Lê Hoàn, mới giữ vững đất nước trước họa xâm lăng. Có Lê Hoàn, binh sĩ mới giữ vững được niềm tin. Không nên cứ khư khư theo một xu hướng ích kỷ hẹp hòi, để giữ tiếng cho nhà Đinh ở ngôi hư vị. Và nếu Lê Hoàn trở thành thiên tử, địa vị của chàng khác đi, quan hệ giữa chàng với ta cũng sẽ là thuận lợi. Nghĩ đến điều này, Dương Hậu cảm thấy có chút ngượng ngùng bẽn lẽn. Nhưng bà trấn tĩnh được ngay. Bà giơ tay ra hiệu cho một người cung nữ. Cô này hiểu ngay ý của bà, vội vàng chạy vào lấy chiếc áo long bào đem ra. Dương Hậu nói nhỏ với Đinh Toàn rồi quay lại, bước tới gần Lê Hoàn, khoác chiếc áo long bào lên vai ông: \\nLòng quan quân đã quyết. Kính xin chàng (tiếng chàng, Dương Hậu nói rất khẽ) chính vị ngôi tôn!\\nQuả nhiên, sự tính toán của Lê Hoàn là hoàn toàn chính xác. Quân Tống thất bại thảm hại, không chờ lệnh vua đã phải vội vàng rút chạy. Vua Tống trút tất cả tội lỗi lên đầu bọn tướng tá: Lưu Trừng, Giả Thực bị giết ở chợ Ung Châu. Tôn Toàn Hưng bị bắt về triều hạ ngục rồi cũng bị giết. Cuộc kháng chống Tống của nhân dân ta, dưới sự lãnh đạo của Lê Hoàn đã hoàn toàn thắng lợi.\\n\\nMặc dầu đã lên ngôi vua, và cũng đã bước sang giai đoạn tứ tuần, Lê Hoàn phải mang mũ áo: hoàng bào, long cổn, phải giữ một vẻ bề ngoài trịnh trọng như những con người đứng tuổi, nhưng phong thái của con người thanh niên trong ông, vẫn giữ nguyên giá trị. Ông luôn luôn tỏ ra linh hoạt, vui vẻ hòa mình với mọi người. Ông ứng phó nhanh nhẹn, lúc nào cũng sôi nổi và hào hứng. Ngay cả khi bước vào những nghi lễ ngoại giao, thù tiếp với các sứ giả nước ngoài, ông vẫn giữ tư thế ngang tàng, đôi khi cũng không cần giữ gìn tiểu tiết.\\n\\nKhông những quí trọng lớp trí thức là những nhà sư, Lê Hoàn cũng có con mắt biệt đãi đối với những con người tài năng khác, kể cả những người nước ngoài, không có tư tưởng kỳ thị. \\n\\nÔng vẫn đóng đô ở Hoa Lư như vua Đinh trước kia. Ông cho xây dựng nhiều cung thất. Tất nhiên việc xây dựng này đã phải chi phí rất nhiều tiền của, có phần xa xỉ, nhưng mặt khác cũng phải thấy là Lê Hoàn rất muốn cho kinh đô và cho nơi vua ở, phải được bề thế, trang trọng, khiến cho nhân dân và khách nước ngoài phải trầm trồ, thán phục, do đó mà tôn vinh uy thế của vương triều ông. Điều đặc biệt là Lê Hoàn rất chú trọng đến việc giữ gìn và phát huy bản sắc văn hóa dân tộc. Bởi vì ông từ nhân dân mà ra, ông đã cố gắng giữ gìn lấy những khuynh hướng tâm linh, khuynh hướng thẩm mỹ mà người nước Việt bảo lưu sâu sắc. Ông là một trong những nhà vua đầu tiên, lấy lễ để thờ Phù Đổng thiên vương, muốn bắt chước truyền thuyết các vua Hùng Vương đề cao anh hùng dân tộc.\\n\\nKhông có một tài liệu nào viết một cách rõ ràng và cụ thể về đời sống tình duyên của Lê Hoàn như thế nào. Ta chỉ biết Lê Hoàn cũng như vua Đinh, có rất nhiều vợ, đều được phong làm Hoàng hậu, trong đó có bà Đại Thắng Minh Hoàng hậu, tức là Dương Hậu, vợ cũ của Đinh Bộ Lĩnh. Vua Đinh mất, Dương Hậu có cảm tình với Lê Hoàn, đã khoác áo hoàng bào lên vai ông để dựng vương triều nhà Lê.\\n\\nNăm Ất Tị (1005) vua Lê Hoàn mất thọ 65 tuổi, làm vua được 24 năm.',\n",
              "  'ir_score': 0.03346025308109767,\n",
              "  'overlap_key_words': 10},\n",
              " {'answer': '965',\n",
              "  'bert_score': 0.6594643754695035,\n",
              "  'content': 'Đinh Bộ Lĩnh (Ất Dậu 925 – Kĩ Mão 979).\\n\\ntổ nhà Đinh, ông vốn họ Đinh, tên Hoàng, Bộ Lĩnh là tước quan của sứ quân Trần Lâm phong cho, quê ở động Hoa Lư, châu Đại Hoàng (nay là huyện Gia Viễn, tỉnh Ninh Bình), con quan Thứ sử Châu Hoan (Nghệ An) về đời Dương Diên Nghệ là Đinh Công Trứ.\\n\\nCha mất sớm, ông theo mẹ là Đàm thị về quê, nương thân với chú ruột là Đinh Dự, ở chăn trâu. Thường nhóm họp bạn bè lấy lau làm cờ, lập trận đánh nhau, ông tỏ ra có tài chỉ huy. Kết bạn rất thân với Đinh Điền, Nguyễn Bặc, Lưu Cơ và Trịnh Tú. Bị người chú ghét đuổi đi, ông sang đầu quân trong đạo binh của sứ quân Trần Lâm ở Bố hải Khẩu. Ít lâu, được Trần Lâm mến tài gả con cho, ông càng vững bước trên đường sự nghiệp. Không bao lâu, Trần Lâm mất, ông đem quân về giữ Hoa Lư, chiêu mộ hào kiệt, hùng cứ một phương, chống nhà Ngô và các sứ quân khác.\\n\\nNăm Ất Sửu 965 Nam Tấn vương Xương Văn mất, con là Xương Xí nối nghiệp, quá suy yếu phải về đóng giữ đất Bình Kiều (thuộc Hưng Yên). Ông thừa thế hưng binh đánh lớn, chỉ trong một năm dẹp yên được các sứ quân. Được xưng tụng là Vạn Thắng vương. Năm Mậu Thìn 968 ông lên ngôi vua, tôn hiệu là Đại Thắng Minh, đặt hiệu nước là Đại Cồ Việt, đóng đô ở Hoa Lư. Năm Canh ngọ 970, bắt đầu đặt hiệu năm là Thái Bình. Ông truyền cho đúc tiền đồng là tiền tệ xưa nhất ở nước ta, gọi là tiền đồng “Thái Bình”. Ông có công lớn trong việc thống nhất đất nước nhưng về chính trị trong nước lại có phần thiên về sử dụng hình phạt nghiêm khắc. Năm Quí Dậu 973 ông sai con là Nam Việt vương Liễn sang cống nhà Tống, được nhà Tống phong ông làm Giao Chỉ Quận vương.\\n\\nĐến năm Kỉ Mão 979, ông và con lớn là Đinh Liễn bị tên hầu cận là Đỗ Thích ám sát chết. Ở ngôi 12 năm (968-979), thọ 56 tuổi, táng ở núi Mã Yên, xã Trường An thượng, huyện Gia Liễn, tỉnh Ninh Bình, đền thờ ông cũng xây dựng gần đấy.\\n\\nCon thứ của ông là Đinh Tuệ nối ngôi, chỉ non một năm thì bị Lê Hoàn lật đổ, cơ nghiệp nhà Đinh dứt.',\n",
              "  'ir_score': 0.03782182939446264,\n",
              "  'overlap_key_words': 8}]"
            ]
          },
          "metadata": {
            "tags": []
          },
          "execution_count": 42
        }
      ]
    }
  ]
}