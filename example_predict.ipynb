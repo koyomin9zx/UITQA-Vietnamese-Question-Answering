{
  "nbformat": 4,
  "nbformat_minor": 0,
  "metadata": {
    "colab": {
      "name": "example_predict.ipynb",
      "provenance": [],
      "mount_file_id": "https://github.com/koyomin9zx/UITQA-Vietnamese-Question-Answering/blob/master/example_predict.ipynb",
      "authorship_tag": "ABX9TyOTNIWv6krWhwbRTa7tnicN",
      "include_colab_link": true
    },
    "kernelspec": {
      "name": "python3",
      "display_name": "Python 3"
    },
    "accelerator": "GPU"
  },
  "cells": [
    {
      "cell_type": "markdown",
      "metadata": {
        "id": "view-in-github",
        "colab_type": "text"
      },
      "source": [
        "<a href=\"https://colab.research.google.com/github/koyomin9zx/UITQA-Vietnamese-Question-Answering/blob/master/example_predict.ipynb\" target=\"_parent\"><img src=\"https://colab.research.google.com/assets/colab-badge.svg\" alt=\"Open In Colab\"/></a>"
      ]
    },
    {
      "cell_type": "code",
      "metadata": {
        "id": "BslQeHl4qVUj",
        "colab_type": "code",
        "colab": {}
      },
      "source": [
        "!git clone https://github.com/koyomin9zx/UITQA-Vietnamese-Question-Answering.git"
      ],
      "execution_count": 0,
      "outputs": []
    },
    {
      "cell_type": "code",
      "metadata": {
        "id": "mUKLdjyk2kAJ",
        "colab_type": "code",
        "colab": {}
      },
      "source": [
        "!pip install pytorch-transformers\n",
        "!pip install underthesea \n",
        "!pip install unidecode"
      ],
      "execution_count": 0,
      "outputs": []
    },
    {
      "cell_type": "code",
      "metadata": {
        "id": "azCO_Yqt5awd",
        "colab_type": "code",
        "colab": {}
      },
      "source": [
        "!ln -s /content/drive/'My Drive'/data"
      ],
      "execution_count": 0,
      "outputs": []
    },
    {
      "cell_type": "code",
      "metadata": {
        "id": "jeOsVwgb65jL",
        "colab_type": "code",
        "colab": {}
      },
      "source": [
        "!mv /content/UITQA-Vietnamese-Question-Answering/combine.py /content"
      ],
      "execution_count": 0,
      "outputs": []
    },
    {
      "cell_type": "code",
      "metadata": {
        "id": "-X4w72iQ6VhJ",
        "colab_type": "code",
        "colab": {}
      },
      "source": [
        "# importing libraries \n",
        "from underthesea import word_tokenize\n",
        "from sklearn.feature_extraction.text import TfidfVectorizer \n",
        "from sklearn.metrics.pairwise import cosine_similarity \n",
        "from scipy.spatial import distance \n",
        "from collections import defaultdict, OrderedDict \n",
        "from string import punctuation\n",
        "import unidecode\n",
        "import re\n",
        "import pandas as pd \n",
        "import numpy as np \n",
        "import glob\n",
        "from combine import QA\n",
        "import time\n"
      ],
      "execution_count": 0,
      "outputs": []
    },
    {
      "cell_type": "code",
      "metadata": {
        "id": "tvcP8N1z6bwS",
        "colab_type": "code",
        "colab": {}
      },
      "source": [
        "def load_data(path):\n",
        "  data=[]\n",
        "  all_files = glob.glob(path + \"/*.txt\")\n",
        "  for file in all_files:\n",
        "      passage=open(file, \"r\", encoding='utf-8').read()\n",
        "      data.append(passage)\n",
        "  return data\n",
        "\n",
        "def vi_tokenizer(row):\n",
        "    return word_tokenize(row, format=\"text\")\n",
        "\n",
        "def remove_accents(row):\n",
        "  return unidecode.unidecode(row)\n",
        "\n",
        "def remove_stopwords(stopwords,hl_split):\n",
        "  sent = [s for s in hl_split if s not in stopwords ]\n",
        "  sent = ' '.join(sent)\n",
        "  return sent\n",
        "\n",
        "def standardize_data(df,stopwords):\n",
        "    hl_cleansed=[]\n",
        "    remove = punctuation\n",
        "    remove = remove.replace(\"_\", \"\")\n",
        "    pattern = \"[{}]\".format(remove) # create the pattern\n",
        "    re_space=re.compile('\\s+')\n",
        "    re_trailing=re.compile('^\\s+|\\s+?$')\n",
        "    for row in df:\n",
        "        row = vi_tokenizer(row)\n",
        "        row=re.sub(pattern, \" \", row) \n",
        "        row=re.sub(re_space,' ',row)\n",
        "        row=re.sub(re_trailing,' ',row)\n",
        "        row = row.strip()\n",
        "        row = remove_stopwords(stopwords,row.split())\n",
        "        #row = remove_accents(row)\n",
        "        row = row.lower()\n",
        "        hl_cleansed.append(row)\n",
        "    return hl_cleansed\n",
        "\n",
        "## Converting 3D array of array into 1D array \n",
        "def arr_convert_1d(arr): \n",
        "    arr = np.array(arr) \n",
        "    arr = np.concatenate( arr, axis=0 ) \n",
        "    arr = np.concatenate( arr, axis=0 ) \n",
        "    return arr \n",
        "   \n",
        "## Cosine Similarity \n",
        "def cosine(trans): \n",
        "    cos = [] \n",
        "    cos.append(cosine_similarity(trans[0], trans[1])) \n",
        "    return cos\n",
        "\n",
        "def tfidf(str1, str2,tf_idf_vetor,stopwords):\n",
        "    str1=standardize_data([str1],stopwords)\n",
        "    str2=standardize_data([str2],stopwords)  \n",
        "    corpus = [str1[0],str2[0]] \n",
        "    trans = tf_idf_vetor.transform(corpus)\n",
        "    cos=cosine(trans) \n",
        "    return arr_convert_1d(cos)[0]\n",
        "\n",
        "def relevant_ranking(query,data,vect,stopwords):\n",
        "  score=defaultdict()\n",
        "  i=0\n",
        "  for d in data:\n",
        "    t=tfidf(query, d,vect,stopwords)\n",
        "    if t!=0.0:\n",
        "      score[t]=d\n",
        "    i+=1\n",
        "  return OrderedDict(sorted(score.items(),reverse=True))"
      ],
      "execution_count": 0,
      "outputs": []
    },
    {
      "cell_type": "code",
      "metadata": {
        "id": "FlQ8dspK2OwP",
        "colab_type": "code",
        "outputId": "e3b45c23-f7fa-4167-c4ec-9cdefe7b276f",
        "colab": {
          "base_uri": "https://localhost:8080/",
          "height": 34
        }
      },
      "source": [
        "start = time.time()\n",
        "model=QA('/content/data/BERT_Squad_WIki_UIT_pretrain') #path to model\n",
        "end = time.time()\n",
        "print(\"time load model: \"+str(round((end - start),2)))"
      ],
      "execution_count": 1,
      "outputs": [
        {
          "output_type": "stream",
          "text": [
            "time load model: 10.14\n"
          ],
          "name": "stdout"
        }
      ]
    },
    {
      "cell_type": "code",
      "metadata": {
        "id": "aXDa45py6lxK",
        "colab_type": "code",
        "colab": {}
      },
      "source": [
        "data=load_data('/content/data/data_QA/data')\n",
        "stopwords = set(open('/content/data/data_QA/stopwords/stopwords.txt').read().split('\\n')[:-1])\n",
        "vect = TfidfVectorizer(min_df=1, max_df=0.80,max_features=2000,sublinear_tf=True) \n",
        "stan_data=standardize_data(data,stopwords)\n",
        "vect.fit(stan_data)"
      ],
      "execution_count": 0,
      "outputs": []
    },
    {
      "cell_type": "code",
      "metadata": {
        "id": "k8B7Io4R5S3R",
        "colab_type": "code",
        "outputId": "55243b9a-aa5d-481e-e74f-b414a5c3afb1",
        "colab": {
          "base_uri": "https://localhost:8080/",
          "height": 756
        }
      },
      "source": [
        "q=\"Chu Văn An quê ở đâu ?\"\n",
        "\n",
        "a=relevant_ranking(q,data,vect,stopwords)\n",
        "\n",
        "i=0\n",
        "for score,doc in a.items():\n",
        "  answer = model.predict(doc,q)\n",
        "  print('Question: ',q)\n",
        "  print('\\nAnswer: ',answer['answer'])\n",
        "  print('\\nScore: ',answer['confidence'])\n",
        "  print('\\nContent: ',doc[:200],'...')\n",
        "  print('\\n==========================================\\n\\n\\n')\n",
        "  i+=1\n",
        "  if i==3:\n",
        "    break\n",
        "\n",
        "\n"
      ],
      "execution_count": 23,
      "outputs": [
        {
          "output_type": "stream",
          "text": [
            "Question:  Chu Văn An quê ở đâu ?\n",
            "\n",
            "Answer:  thôn Văn, Xã Quang Liệt, nay là Thanh Liệt, huyện Thanh Trì, Hà Nội\n",
            "\n",
            "Score:  0.8909438198935057\n",
            "\n",
            "Content:  Chu Văn An (1292 - 1370)\n",
            "\n",
            "Chu Văn An - Nhà giáo dục đầu tiên của Việt Nam\n",
            "\n",
            "Chu Văn An (còn gọi là Chu An) người thôn Văn, Xã Quang Liệt, nay là Thanh Liệt, huyện Thanh Trì, Hà Nội (quê mẹ). Theo Đăng  ...\n",
            "\n",
            "==========================================\n",
            "\n",
            "\n",
            "\n",
            "Question:  Chu Văn An quê ở đâu ?\n",
            "\n",
            "Answer:  động Hoa Lư, châu Đại Hoàng\n",
            "\n",
            "Score:  0.6656076819135944\n",
            "\n",
            "Content:  Đinh Bộ Lĩnh (Ất Dậu 925 – Kĩ Mão 979).\n",
            "\n",
            "tổ nhà Đinh, ông vốn họ Đinh, tên Hoàng, Bộ Lĩnh là tước quan của sứ quân Trần Lâm phong cho, quê ở động Hoa Lư, châu Đại Hoàng (nay là huyện Gia Viễn, tỉnh Ni ...\n",
            "\n",
            "==========================================\n",
            "\n",
            "\n",
            "\n",
            "Question:  Chu Văn An quê ở đâu ?\n",
            "\n",
            "Answer:  1762 con ông Nguyễn Phước Luân và bà Nguyễn Thị Hoàn, cháu nội của Võ vương Nguyễn Phước Khoát.\n",
            "\n",
            "Score:  0.5105455297919408\n",
            "\n",
            "Content:  Gia Long Hoàng đế (1802-1819)\n",
            "\n",
            "Ông chính tên là Nguyễn Phước Ánh, sinh nǎm 1762 con ông Nguyễn Phước Luân và bà Nguyễn Thị Hoàn, cháu nội của Võ vương Nguyễn Phước Khoát. Cha bị hãm hại, ông ở với chú ...\n",
            "\n",
            "==========================================\n",
            "\n",
            "\n",
            "\n"
          ],
          "name": "stdout"
        }
      ]
    },
    {
      "cell_type": "code",
      "metadata": {
        "id": "rIFA7vy85yAp",
        "colab_type": "code",
        "colab": {}
      },
      "source": [
        ""
      ],
      "execution_count": 0,
      "outputs": []
    }
  ]
}