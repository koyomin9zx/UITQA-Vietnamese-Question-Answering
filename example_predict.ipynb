{
  "nbformat": 4,
  "nbformat_minor": 0,
  "metadata": {
    "colab": {
      "name": "example_predict.ipynb",
      "provenance": [],
      "include_colab_link": true
    },
    "kernelspec": {
      "name": "python3",
      "display_name": "Python 3"
    },
    "accelerator": "GPU"
  },
  "cells": [
    {
      "cell_type": "markdown",
      "metadata": {
        "id": "view-in-github",
        "colab_type": "text"
      },
      "source": [
        "<a href=\"https://colab.research.google.com/github/koyomin9zx/UITQA-Vietnamese-Question-Answering/blob/master/example_predict.ipynb\" target=\"_parent\"><img src=\"https://colab.research.google.com/assets/colab-badge.svg\" alt=\"Open In Colab\"/></a>"
      ]
    },
    {
      "cell_type": "code",
      "metadata": {
        "id": "BslQeHl4qVUj",
        "colab_type": "code",
        "outputId": "5bc0c8cc-ae97-46b3-efee-4554f5f6b2d0",
        "colab": {
          "base_uri": "https://localhost:8080/",
          "height": 119
        }
      },
      "source": [
        "!git clone https://github.com/koyomin9zx/UITQA-Vietnamese-Question-Answering.git"
      ],
      "execution_count": 1,
      "outputs": [
        {
          "output_type": "stream",
          "text": [
            "Cloning into 'UITQA-Vietnamese-Question-Answering'...\n",
            "remote: Enumerating objects: 88, done.\u001b[K\n",
            "remote: Counting objects: 100% (88/88), done.\u001b[K\n",
            "remote: Compressing objects: 100% (79/79), done.\u001b[K\n",
            "remote: Total 88 (delta 40), reused 23 (delta 6), pack-reused 0\u001b[K\n",
            "Unpacking objects: 100% (88/88), done.\n"
          ],
          "name": "stdout"
        }
      ]
    },
    {
      "cell_type": "code",
      "metadata": {
        "id": "mUKLdjyk2kAJ",
        "colab_type": "code",
        "colab": {}
      },
      "source": [
        "!pip install pytorch-transformers\n",
        "!pip install underthesea \n",
        "!pip install unidecode"
      ],
      "execution_count": 0,
      "outputs": []
    },
    {
      "cell_type": "code",
      "metadata": {
        "id": "N9p5f4LHYj00",
        "colab_type": "code",
        "colab": {}
      },
      "source": [
        "from google.colab import drive\n",
        "drive.mount('/content/drive')"
      ],
      "execution_count": 0,
      "outputs": []
    },
    {
      "cell_type": "code",
      "metadata": {
        "id": "azCO_Yqt5awd",
        "colab_type": "code",
        "colab": {}
      },
      "source": [
        "!ln -s /content/drive/'My Drive'/data"
      ],
      "execution_count": 0,
      "outputs": []
    },
    {
      "cell_type": "code",
      "metadata": {
        "id": "jeOsVwgb65jL",
        "colab_type": "code",
        "colab": {}
      },
      "source": [
        "!mv /content/UITQA-Vietnamese-Question-Answering/combine.py /content"
      ],
      "execution_count": 0,
      "outputs": []
    },
    {
      "cell_type": "code",
      "metadata": {
        "id": "-X4w72iQ6VhJ",
        "colab_type": "code",
        "colab": {}
      },
      "source": [
        "# importing libraries \n",
        "from underthesea import word_tokenize, sent_tokenize\n",
        "from sklearn.feature_extraction.text import TfidfVectorizer \n",
        "from sklearn.metrics.pairwise import cosine_similarity \n",
        "from scipy.spatial import distance \n",
        "from collections import defaultdict, OrderedDict \n",
        "from string import punctuation\n",
        "import unidecode\n",
        "import re\n",
        "import pandas as pd \n",
        "import numpy as np \n",
        "import glob\n",
        "from combine import QA\n",
        "import time\n"
      ],
      "execution_count": 0,
      "outputs": []
    },
    {
      "cell_type": "code",
      "metadata": {
        "id": "FlQ8dspK2OwP",
        "colab_type": "code",
        "outputId": "a0b62491-548f-4244-cbee-aef753674a61",
        "colab": {
          "base_uri": "https://localhost:8080/",
          "height": 34
        }
      },
      "source": [
        "start = time.time()\n",
        "model=QA('/content/data/BERT_Squad_WIki_UIT_pretrain') #path to model\n",
        "end = time.time()\n",
        "print(\"time load model: \"+str(round((end - start),2)))"
      ],
      "execution_count": 7,
      "outputs": [
        {
          "output_type": "stream",
          "text": [
            "time load model: 34.13\n"
          ],
          "name": "stdout"
        }
      ]
    },
    {
      "cell_type": "code",
      "metadata": {
        "id": "tvcP8N1z6bwS",
        "colab_type": "code",
        "colab": {}
      },
      "source": [
        "def load_data(path):\n",
        "  data=[]\n",
        "  all_files = glob.glob(path + \"/*.txt\")\n",
        "  for file in all_files:\n",
        "      passage=open(file, \"r\", encoding='utf-8').read()\n",
        "      data.append(passage)\n",
        "  return data\n",
        "\n",
        "def vi_tokenizer(row):\n",
        "    return word_tokenize(row, format=\"text\")\n",
        "\n",
        "def remove_stopwords(stopwords,text):\n",
        "  sent = [s for s in text.split() if s not in stopwords ]\n",
        "  sent = ' '.join(sent)\n",
        "  return sent\n",
        "\n",
        "\n",
        "def remove_punctuation(row):\n",
        "  remove = punctuation\n",
        "  remove = remove.replace(\"_\", \"\")\n",
        "  pattern = \"[{}]\".format(remove) # create the pattern\n",
        "  re_space=re.compile('\\s+')\n",
        "  re_trailing=re.compile('^\\s+|\\s+?$')\n",
        "  row=re.sub(pattern, \" \", row) \n",
        "  row=re.sub(re_space,' ',row)\n",
        "  row=re.sub(re_trailing,' ',row)\n",
        "  row = row.strip()\n",
        "  row =row.lower()\n",
        "  return row\n",
        "\n",
        "def standardize_data(df,stopwords):\n",
        "    hl_cleansed=[]\n",
        "    remove = punctuation\n",
        "    remove = remove.replace(\"_\", \"\")\n",
        "    remove = remove.replace(\"(\", \"\")\n",
        "    remove = remove.replace(\")\", \"\")\n",
        "    pattern = \"[{}]\".format(remove) # create the pattern\n",
        "    re_space=re.compile('\\s+')\n",
        "    re_trailing=re.compile('^\\s+|\\s+?$')\n",
        "    for row in df:\n",
        "        row = vi_tokenizer(row)\n",
        "        row=re.sub(pattern, \" \", row) \n",
        "        row=re.sub(re_space,' ',row)\n",
        "        row=re.sub(re_trailing,' ',row)\n",
        "        row = row.strip()\n",
        "        row = remove_stopwords(stopwords,row)\n",
        "        #row = remove_accents(row)\n",
        "        row = row.lower()\n",
        "        hl_cleansed.append(row)\n",
        "    return hl_cleansed\n",
        "\n",
        "\n",
        "def sentences_tokenize(text):\n",
        "    sents = sent_tokenize(text)\n",
        "    sents = [word_tokenize(s,format = 'text') for s in sents]\n",
        "    sents = [remove_punctuation(s) for s in sents]\n",
        "    sents = [s.lower() for s in sents]\n",
        "    #sents = [remove_stopwords(stopwords,s) for s in sents]\n",
        "    return sents\n",
        "\n",
        "\n",
        "## Converting 3D array of array into 1D array \n",
        "def arr_convert_1d(arr): \n",
        "    arr = np.array(arr) \n",
        "    arr = np.concatenate( arr, axis=0 ) \n",
        "    arr = np.concatenate( arr, axis=0 ) \n",
        "    return arr \n",
        "  \n",
        "## Cosine Similarity \n",
        "def cosine(trans): \n",
        "    cos = [] \n",
        "    cos.append(cosine_similarity(trans[0], trans[1])) \n",
        "    return cos\n",
        "\n",
        "def tfidf(str1, str2,tf_idf_vetor,stopwords):\n",
        "    str1=standardize_data([str1],stopwords)\n",
        "    str2=standardize_data([str2],stopwords)  \n",
        "    corpus = [str1[0],str2[0]] \n",
        "    trans = tf_idf_vetor.transform(corpus)\n",
        "    cos=cosine(trans) \n",
        "    return arr_convert_1d(cos)[0]\n",
        "\n",
        "def relevant_ranking(query,data,vect,stopwords):\n",
        "  query=standardize_data([query],stopwords)[0]\n",
        "  print('Query: ',query,'\\n')\n",
        "  score=defaultdict()\n",
        "  i=0\n",
        "  for d in data:\n",
        "    t=tfidf(query, d,vect,stopwords)\n",
        "    if t!=0.0:\n",
        "      score[t]=d\n",
        "    i+=1\n",
        "  return OrderedDict(sorted(score.items(),reverse=True))\n",
        "\n"
      ],
      "execution_count": 0,
      "outputs": []
    },
    {
      "cell_type": "code",
      "metadata": {
        "id": "aXDa45py6lxK",
        "colab_type": "code",
        "outputId": "13d9ef5c-f33f-4ebf-edb8-6670f94f058f",
        "colab": {
          "base_uri": "https://localhost:8080/",
          "height": 136
        }
      },
      "source": [
        "data=load_data('/content/data/data_QA/data')\n",
        "stopwords = set(open('/content/data/data_QA/stopwords/stopwords.txt').read().split(' ')[:-1])\n",
        "\n",
        "data_standard=standardize_data(data,stopwords)\n",
        "vect = TfidfVectorizer(min_df=1, max_df=0.8,max_features=5000,sublinear_tf=True) \n",
        "vect.fit(data_standard)"
      ],
      "execution_count": 122,
      "outputs": [
        {
          "output_type": "execute_result",
          "data": {
            "text/plain": [
              "TfidfVectorizer(analyzer='word', binary=False, decode_error='strict',\n",
              "        dtype=<class 'numpy.float64'>, encoding='utf-8', input='content',\n",
              "        lowercase=True, max_df=0.8, max_features=5000, min_df=1,\n",
              "        ngram_range=(1, 1), norm='l2', preprocessor=None, smooth_idf=True,\n",
              "        stop_words=None, strip_accents=None, sublinear_tf=True,\n",
              "        token_pattern='(?u)\\\\b\\\\w\\\\w+\\\\b', tokenizer=None, use_idf=True,\n",
              "        vocabulary=None)"
            ]
          },
          "metadata": {
            "tags": []
          },
          "execution_count": 122
        }
      ]
    },
    {
      "cell_type": "code",
      "metadata": {
        "id": "k8B7Io4R5S3R",
        "colab_type": "code",
        "outputId": "89d3f1ba-32eb-4612-fad1-c130aba43a83",
        "colab": {
          "base_uri": "https://localhost:8080/",
          "height": 649
        }
      },
      "source": [
        "q=\"năm 1912 Hồ Chí Minh làm gì?\"\n",
        "\n",
        "a=relevant_ranking(q,data_standard,vect,stopwords)\n",
        "\n",
        "\n",
        "b=standardize_data([q],stopwords)[0]\n",
        "i=0\n",
        "for score,doc in a.items():\n",
        "  answer = model.predict(doc,q)\n",
        "  num_overlap=len(set(b.split()) & set(doc.split()))\n",
        "  if answer['confidence']>0.1 and num_overlap >1:\n",
        "    print('\\nQuestion: ',q)\n",
        "    print('\\nOverlap key word: ',num_overlap)\n",
        "    print('\\nAnswer: ',answer['answer'])\n",
        "    print('\\nIR Sccore: ',score)\n",
        "    print('\\nBert Score: ',answer['confidence'])\n",
        "    print('\\nContent: ',doc,'...')\n",
        "    print('\\n==========================================\\n\\n\\n')\n",
        "    i+=1\n",
        "  if i==5:\n",
        "    break\n",
        "\n"
      ],
      "execution_count": 134,
      "outputs": [
        {
          "output_type": "stream",
          "text": [
            "Query:  năm 1912 hồ_chí_minh làm \n",
            "\n",
            "\n",
            "Question:  năm 1912 Hồ Chí Minh làm gì?\n",
            "\n",
            "Overlap key word:  4\n",
            "\n",
            "Answer:  người rời tổ_quốc đi sang phương tây tìm con đường giải_phóng dân_tộc\n",
            "\n",
            "IR Sccore:  0.08085411191360731\n",
            "\n",
            "Bert Score:  0.9568646332495551\n",
            "\n",
            "Content:  hồ_chí_minh cuộc_đời chủ_tịch hồ_chí_minh cuộc_đời trong_sáng cao_đẹp người cộng_sản vĩ_đại anh_hùng dân_tộc kiệt_xuất chiến_sĩ quốc_tế lỗi_lạc đấu_tranh mệt_mỏi hiến_dâng đời mình tổ_quốc nhân_dân lý_tưởng cộng_sản chủ_nghĩa độc_lập tự_do dân_tộc hòa_bình công_lý thế_giới chủ_tịch hồ_chí_minh ( nhỏ tên nguyễn_sinh_cung đi học nguyễn_tất_thành trong năm hoạt đông cách_mạng lấy tên nguyễn_ái_quốc bí_danh bút_danh khác ) sinh ngày 19 tháng 5 năm 1890 ở kim_liêm huyện nam_đàn tình nghệ_an mất ngày 2 tháng 9 năm 1969 hà_nội người sinh trong gia_đình nhà_nho yêu nước lớn ở địa_phương truyền_thống yêu nước anh_dũng chống giặc ngoại_xâm sống trong hoàn_cảnh đất_nước chìm ách đô_hộ thực_dân pháp thời niên_thiếu thanh_niên người chứng_kiến nỗi khổ_cực đồng_bào phong_trào đấu_tranh chống thực_dân người sớm có_chí đuổi thực_dân giành độc_lập đất_nước đem tự_do hạnh_phúc đồng_bào với tình_cảm yêu nước thương dân vô_hạn năm 1911 người rời tổ_quốc đi sang phương tây tìm con đường giải_phóng dân_tộc từ năm 1912 năm l917 nguyễn_tất_thành nước ở châu_á châu_âu châu_mỹ châu_phi sống hòa_mình nhân_dân lao_động người thông_cảm sâu_sắc cuộc_sống khổ_cực nhân_dân lao_động dân_tộc thuộc_địa nguyện_vọng thiêng_liêng họ người sớm nhận_thức cuộc đấu_tranh giải_phóng dân_tộc nhân_dân việt_nam bộ_phận trong cuộc đấu_tranh chung nhân_dân thế_giới người hoạt_động tích_cực nhằm đoàn_kết nhân_dân dân_tộc giành tự_do độc_lập cuối năm 1917 người anh trở_lại pháp tiếp_tục hoạt_động trong phong_trào việt_kiều phong_trào công_nhân pháp năm 1919 lấy tên nguyễn_ái_quốc người thay_mặt người việt_nam yêu nước pháp gửi tới hội_nghị vesailles bản yêu_sách đòi quyền tự_do nhân_dân việt_nam quyền tự_do nhân_dân nước thuộc_địa dưới ảnh_hưởng cách_mạng tháng_mười_nga năm 1917 luận_cương lênin về vấn_đề dân_tộc thuộc_địa tháng 12 năm 1920 nguyễn_ái_quốc tham_dự đại_hội lần thứ xviii đảng xã_hội pháp người bỏ_phiếu tán_thành đảng gia_nhập quốc_tế iii quốc_tế cộng_sản trở_thành trong người sáng_lập đảng cộng_sản pháp từ người yêu nước trở_thành người cộng_sản người khẳng_định con đường cách_mạng giải_phóng dân_tộc trong thời_đại mới con đường chủ_nghĩa_mác lênin cách_mạng tháng_mười_nga vĩ_đại _năng 1921 một_số người yêu nước thuộc_địa pháp nguyễn_ái_quốc sáng_lập_hội liên_hiệp thuộc_địa _tháng 4 năm 1922 hội báo “ người cùng_khổ “ ( le_paria ) nhằm đoàn_kết tổ_chức hướng_dẫn phong_trào đấu_tranh giải_phóng dân_tộc ở thuộc_địa nhiều bài báo người đưa tác_phẩm bản_án chế_độ thực_dân pháp xuất_bản năm l925 đây công_trình nghiên_cứu về bản_chất chủ_nghĩa thực_dân thức_tỉnh cổ_vũ nhân_dân nước thuộc_địa đứng tự giải_phóng tháng 6 năm 1923 nguyễn_ái_quốc pháp sang liên_xô người làm_việc trong quốc_tế cộng_sản tháng 10 năm l923 hội_nghị quốc_tế_nông_dân lần thứ nhất nguyễn_ái_quốc bầu hội_đồng_quốc_tế_nông_dân người đại_biểu duy_nhất nông_dân thuộc_địa cử đoàn chủ_tịch hội_đồng người tham_dự đại_hội_quốc_tế cộng_sản lần thứ v đại_hội_quốc_tế cộng_sản thanh_niên lần thứ iv đại_hội quốc_tế công_hội đỏ _ngườil kiên_trì bảo_vệ phát_triển sáng_tạo tư_tưởng v _i _lênin về vấn_đề dân_tộc thuộc_địa hướng quan_tâm quốc_tế cộng_sản tới phong_trào giải_phóng dân_tộc nguyễn_ái_quốc ủy_viên thường_trực bộ phương_đông trực_tiếp phụ_trách cục phương nam quốc_tế cộng_sản_tháng 11 năm 1924 nguyễn_ái_quốc về quảng_châu ( trung_quốc ) chọn một_số thanh_niên việt_nam yêu nước sống ở quảng_châu trực_tiếp mở lớp huấn_luyện đào_tạo cán_bộ việt_nam các bài_giảng người tập_hợp in thành cuốn sách “ đườg_kách_mệnh văn_kiện lý_luận quan_trọng đặt cơ_sở tư_tưởng dường lối cách_mạng việt_nam năm 1925 người thành_lập_hội việt_nam cách_mạng thanh_niên báo “ thanh_niên ” tờ báo cách_mạng đầu_tiên việt_nam nhằm truyền_bá chủ_nghĩa_mác lênin về việt_nam chuẩn_bị thành_lập đảng_cộng_sản_việt_nam tháng 5 năm 1927 nguyễn_ái_quốc rời quảng_châu đi mátxcơva ( liên_xô ) đi berlin ( đức ) đi bruxell ( bỉ ) tham_dự phiên họp mở_rộng đại_hội_đồng liên_đoàn chống chiến_tranh đế_quốc đi ý về châu_á _tử tháng 7 năm 1928 tháng 11 năm 1929 người hoạt đông trong phong_trào vận đảng việt_kiều yêu nước ở thái_lan tiếp_tục chuẩn_bị ra_đời đảng_cộng_sản_việt_nam mùa xuân năm 1930 người chủ_trì hội_nghị thành_lập đảng họp cửu_long gần hương_cảng thông_qua chính_cương vắn_tắt sách_lược vắn_tắt điều_lệ vắn_tắt đảng_cộng_sản_việt_nam ( hội_nghị đảng tháng 10 năm 1930 đổi tên thành đảng cộng_sản đông_dương ) đội tiên_phong giai_cấp công_nhân toàn_thể dân_tộc việt_nam lãnh_đạo_nhân_dân việt_nam_tiến_hành cách_mạng giải_phóng dân_tộc ngay ra_đời đảng_cộng_sản_việt_nam lãnh_đạo cao_trào cách mang 1930 1931 đỉnh_cao xô_viết nghệ_tĩnh cuộc tổng_diễn_tập đầu_tiên cách_mạng tháng_tám năm 1945 tháng 6 năm 1931 nguyễn_ái_quốc chính_quyền_anh bắt giam hong_kong đây thời_kỳ sóng_gió trong cuộc_đời hoạt đảng cách_mạng nguyễn_ái_quốc mùa xuân năm 1933 người trả tự_do từ năm 1934 1938 người nghiên_cứu viện nghiên_cứu vấn_đề dân_tộc thuộc_địa matxcova kiên_trì con đường xác_định cách mang việt_nam người tiếp_tục theo_dõi chỉ_đạo phong_trào cách_mạng trong nước tháng 10 năm 1938 người rời liên_xô về trung_quốc bắt liên_lạc tổ_chức đảng chuẩn_bị về nước ngày 28 tháng 1 năm 1941 người về nước hơn 30 năm xa tổ_quốc bao_nhiêu năm thương_nhớ đợi_chờ biên_giới người vô_cùng xúc_động tháng 5 năm 1941 người triệu_tập hội_nghị lần thứ tám ban_chấp_hành trung_ương đảng quyết_định đường_lối cứu nước trong thời_kỳ mới thành_lập việt_nam độc_lập đồng_minh ( việt_minh ) tổ_chức lực_lượng_vũ_trang giải_phóng xây_dựng căn_cứ_địa cách_mạng tháng 8 năm 1942 lấy tên hồ_chí_minh người đại_diện mặt_trận việt_minh phân_hội việt_nam thuộc hiệp_hội quốc_tế chống xâm_lược sang trung_quốc tìm liên_minh quốc_tế phối_hợp hành_động chống phát_xít chiến_trường thái_bình_dương người chính_quyền địa_phương tưởng giới_thạch bắt_giam trong nhà_lao tỉnh qủang_tây trong thời_gian 13 tháng bi tù người viết tập thơ “ ngục trung nhật_ký ( nhật_ký trong tù ) 133 bài thơ chữ hán _tháng 9 năm 1943 người trả tự_do _tháng 9 năm 1944 người trở_về căn_cứ cao_bằng _tháng 12 năm 1944 người chỉ_thị thành_lập đội việt_nam tuyên_truyền giải_phóng_quân tiền_thân quân_đội nhân_dân việt_nam cuộc chiến_tranh thế_giới thứ ii bước giai_đoạn cuối thắng_lợi liên_xô nước đồng_minh tháng 5 năm 1945 hồ_chí_minh rời cao_bằng về tân_trào ( tuyên_quang ) tại đề_nghị người hội_nghị toàn_quốc đảng đại_hội quốc_dân đã hop quyếtđịnh tổngkhởi nghĩa đại_hội quốc_dân bầu ủy_ban giải_phóng dân_tộc việt_nam ( tức chính_phủ lâm_thời ) hồ_chí_minh làm chủ_tịch tháng 8 năm 1945 người lãnh_đạo_nhân_dân khởi_nghĩa giành chính_quyền trong nước ngày 2 tháng 9 năm j_945 quảng_trường ba_đình lịch_sử người đọc “ tuyên_ngôn độc_lập ” tuyên_bố thành_lập nước việt_nam_dân_chủ_cộng_hòa người trở_thành vị chủ_tịch đầu_tiên nước việt_nam độc_lập ngay thực_dân pháp gây chiến_tranh âm_mưu xâm_chiếm việt_nam lần trước nạn ngoại_xâm chủ_tịch hồ_chí_minh kêu_gọi nước đứng bảo_vệ độc_lập tự_do tổ_quốc tinh_thần “ chúng_ta thà hy_sinh tất_cả nhất_định chịu mất nước nhất_định chịu làm nô_lệ ” người khởi_xướng phong_trào thi_đua yêu nước trung_ương đảng lãnh_đạo_nhân_dân việt_nam_tiến_hành cuộc kháng_chiến toàn_dân toàn_diện trường_kỳ dựa sức mình chính bước giành thắng_lợi đại_hội lần thứ ii đảng ( 1951 ) người bầu làm chủ_tịch đảng lao_động việt_nam dưới lãnh_đạo trung_ương đảng chủ_tịch hồ_chí_minh cuộc kháng_chiến thần_thánh nhân_dân việt_nam chống thưc dân pháp xâm_lược giành thắng_lợi to_lớn kết húc vẻ_vang bằng chiến_thắng lịch_sử điện_biên_phủ ( 1954 ) giải_phóng hoàn_toàn miền bắc từ năm 1954 người trung_ương đảng lao_động việt_nam lãnh_đạo_nhân_dân xây_dựng chủ_nghĩa_xã_hội ở miền_bắc đấu_tranh giải_phóng miền nam thống_nhất tổ_quốc đại_hội_đảng_lao_động việt_nam lần thứ iii họp tháng 9 năm 1960 người khẳng_định “ đại_hội lần đại_hội xây_dựng chủ_nghĩa_xã_hội ở miền bắc đấu_tranh hòa_bình thống_nhất nước_nhà ” tại đại_hội người bầu làm chủ_tịch ban_chấp_hành trung_ương đảng _năm 1964 đế_quốc mỹ mở cuộc chiến_tranh phá_hoại bằng quân đánh_phá miền bắc việt_nam người động_viên toàn_thể_nhân_dân việt_nam vượt khó_khăn gian_khổ quyết_tâm đánh_thắng giặc mỹ xâm_lược người nói “ chiến_tranh có_thể kéo_dài 5 năm 10 năm 20 năm hoặc lâu hơn hà_nội hải_phòng một_số thành_phố xí_nghiệp có_thể tàn_phá song_nhân_dân việt_nam quyết sợ không quý hơn độc_lập tự_do đến ngày thắng_lợi nhân_dân ta xây_dựng đất_nước ta đàng_hoàng hơn to đẹp hơn ” từ năm 1965 năm 1969 trung_ương đảng người tiếp_tục lãnh_đạo_nhân_dân việt_nam thực_hiện sự_nghiệp cách_mạng trong điều_kiện nước chiến_tranh xây_dựng bảo_vệ miền bắc đấu_tranh giải_phóng miền nam thực_hiện thống_nhất đất_nước ngày 2 9 1969 người trần hưởng_thọ 79 tuổi trước qua_đời chủ_tịch hồ_chí_minh nhân_dân việt_nam bản di_chúc lịch_sử người viết “ điều mong_muốn cuối_cùng tôi toàn đảng toàn dân ta đoàn_kết phấn_đấu xây_dựng nước việt_nam hòa_bình thống_nhất độc_lập dân_chủ giàu_mạnh góp_phần xứng_đáng sự_nghiệp cách_mạng thế_giới ” thực_hiện di_chúc người toàn_dân việt_nam đă đoàn_kết lòng đánh thắng cuộc chiến_tranh phá_hoại bằng máy_bay b52 đế_quốc mỹ buộc chính_phủ mỹ ký hiệp_định pari ngày 27 tháng 1 năm 1973 chấm_dứt chiến_tranh xâm_lược rút hết quân_đội mỹ chư_hầu khỏi miền nam việt_nam mùa xuân năm 1975 chiến_dịch hồ_chí_minh lịch_sử nhân_dân việt_nam hoàn_thành sự_nghiệp giải_phóng miền nam thống_nhất tổ_quốc thực_hiện mong_ước thiêng_liêng chủ_tịch hồ_chí_minh chủ_tịch hồ_chí_minh lãnh tu vĩ_đại dân_tộc việt_nam người vân dụng phát_triển sáng_tạo chủ_nghĩa_mác lênin điều_kiện cụ_thể nước ta sáng_lập đảng_mác lênin ở việt_nam sáng_lập mặt_trận dân_tộc thống_nhất việt_nam sáng_lập lực_lượng vũ_trang nhân_dân việt_nam sáng_lập nước việt_nam_dân_chủ_cộng_hòa ( nay cộng_hòa_xã_hội_chủ_nghĩa_việt_nam ) người luôn_luôn kết_hợp chặt_chẽ cách_mạng việt_nam cuộc đấu_tranh chung nhân_dân thế_giới hòa_bình độc_lập dân_tộc dân_chủ tiến_bộ xã_hội người tấm_gương đạo_đức cao_cả kiệm liêm chính chí_công vô_tư vô_cùng khiêm_tốn giản_dị năm 1987 tổ_chức giáo_dục khoa_học văn_hóa liên_hợp_quốc ( unesco ) công_nhận hồ_chí_minh anh_hùng giải_phóng dân_tộc nhà_văn_hóa kiệt_xuất ngày_nay trong sự_nghiệp đổi_mới đất_nước hội_nhập thế glới tư_tưởng hồ_chí_minh tài_sản tinh_thần to_lớn đảng dân_tộc ta mãi_mãi soi đường cuộc đấu_tranh nhân_dân việt_nam mục_tiêu dân giàu nước mạnh xã_hội công_bằng dân_chủ văn_minh _nguồn bảo_tàng hồ_chí_minh – tháng 5 năm 2004 ...\n",
            "\n",
            "==========================================\n",
            "\n",
            "\n",
            "\n",
            "\n",
            "Question:  năm 1912 Hồ Chí Minh làm gì?\n",
            "\n",
            "Overlap key word:  3\n",
            "\n",
            "Answer:  huế chờ thi_hương tin mẹ mất\n",
            "\n",
            "IR Sccore:  0.042587700249501405\n",
            "\n",
            "Bert Score:  0.3104775007067509\n",
            "\n",
            "Content:  nguyễn_đình_chiểu ( hiệu trọng_phủ thường gọi đồ_chiểu 1822 1888 ) nguyễn_đình_chiểu ( hiệu trọng_phủ thường gọi đồ_chiểu 1822 1888 ) nhà_thơ yêu nước việt_nam quê thừa_thiên huế sinh_ra lớn xã tân_thới huyện bình_dương tỉnh gia_định ( nay thành_phố hồ_chí_minh ) đỗ tú_tài năm 1843 năm 1848 huế chờ thi_hương tin mẹ mất về nhà chịu_tang đường về mù từ làm nghề dạy_học bốc_thuốc sáng_tác thơ_văn thơ_văn nguyễn_đình_chiểu bằng chữ nôm hiện_tượng hết_sức độc_đáo những tác_phẩm đầu_tay truyện_thơ “ dương từ hà_mậu ” “ lục_vân_tiên ” nêu cao_đạo làm người chân_chính nghiêm_khắc phê_phán suy_thoái về đạo_lí nhân_phẩm khi pháp đánh gia_định ông sáng_tác văn_thơ đánh địch ca_ngợi dũng_khí chiến_đấu nghĩa_sĩ tác_phẩm chính “ văn_tế nghĩa_sĩ cần_giuộc ” “ văn_tế trương_định ” “ thơ điếu trương_định ” “ văn_tế nghĩa_sĩ trận_vong lục_tỉnh ” “ thơ điếu phan_công_tòng ” “ thảo thử hịch ” “ ngư_tiều y_thuật vấn_đáp ” “ ngư_tiều y_thuật vấn_đáp ” tổng_kết kinh_nghiệm bốc_thuốc chữa bệnh ấp_ủ lòng yêu nước thiết_tha tin_tưởng đất_nước giải_phóng thơ_văn nguyễn_đình_chiểu lương_tri người trí_thức yêu nước lời thơ mộc_mạc giản_dị sôi_nổi đằm_thắm tác_phẩm truyền_tụng “ lục_vân_tiên ” ...\n",
            "\n",
            "==========================================\n",
            "\n",
            "\n",
            "\n"
          ],
          "name": "stdout"
        }
      ]
    }
  ]
}